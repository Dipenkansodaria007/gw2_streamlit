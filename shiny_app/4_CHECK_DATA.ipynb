{
 "cells": [
  {
   "cell_type": "code",
   "execution_count": 44,
   "metadata": {},
   "outputs": [
    {
     "name": "stdout",
     "output_type": "stream",
     "text": [
      "         id               name           lastUpdate  buy_quantity  buy_price  \\\n",
      "9660  19721  Glob of Ectoplasm  2024-05-02 20:19:25      338484.0     3279.0   \n",
      "\n",
      "      sell_quantity  sell_price  profit  \n",
      "9660       434230.0      3468.0  -331.0  \n"
     ]
    }
   ],
   "source": [
    "import pandas as pd\n",
    "from datetime import datetime\n",
    "\n",
    "# API URL\n",
    "url = \"https://api.datawars2.ie/gw2/v1/items/csv?fields=id,name,lastUpdate,buy_quantity,buy_price,sell_quantity,sell_price,profit\"\n",
    "\n",
    "# Load data from API URL into a DataFrame\n",
    "df = pd.read_csv(url)\n",
    "\n",
    "# Remove timezone information from the 'lastUpdate' column\n",
    "df['lastUpdate'] = pd.to_datetime(df['lastUpdate']).dt.strftime('%Y-%m-%d %H:%M:%S')\n",
    "\n",
    "# Filter the DataFrame to only include rows with id=19721\n",
    "df_filtered = df[df['id'] == 19721]\n",
    "\n",
    "# Print the filtered DataFrame to check the values\n",
    "print(df_filtered)\n"
   ]
  },
  {
   "cell_type": "code",
   "execution_count": 45,
   "metadata": {},
   "outputs": [
    {
     "name": "stdout",
     "output_type": "stream",
     "text": [
      "['id', 'name', 'firstAdded', 'type', 'weight', 'weaponType', 'level', 'rarity', 'upgarade1', 'AccoountBound', 'vendor_value', 'buy_price', 'buy_quantity', 'sell_price', 'sell_quantity', 'lastUpdate', 'profit', '1d_buy_delisted', '1d_buy_listed', '1d_buy_price_avg', '1d_buy_price_max', '1d_buy_price_min', '1d_buy_quantity_avg', '1d_buy_quantity_max', '1d_buy_quantity_min', '1d_buy_sold', '1d_buy_value', '1d_sell_delisted', '1d_sell_delisted_value', '1d_sell_listed', '1d_sell_price_avg', '1d_sell_price_max', '1d_sell_price_min', '1d_sell_quantity_avg', '1d_sell_quantity_max', '1d_sell_quantity_min', '1d_sell_sold', '1d_sell_value', 'buy_cutoff_price', 'buy_listings', 'sell_cutoff_price', 'sell_listings', 'loadDateTime']\n"
     ]
    }
   ],
   "source": [
    "import pandas as pd\n",
    "\n",
    "# Assuming the CSV file is named 'your_file.csv', change this to your actual file name\n",
    "file_path = 'master_data_v2.csv'\n",
    "\n",
    "# Read the CSV file into a DataFrame\n",
    "df = pd.read_csv(file_path)\n",
    "\n",
    "# Display the list of columns in the DataFrame\n",
    "print(df.columns.tolist())"
   ]
  },
  {
   "cell_type": "code",
   "execution_count": 46,
   "metadata": {},
   "outputs": [
    {
     "data": {
      "text/html": [
       "<div>\n",
       "<style scoped>\n",
       "    .dataframe tbody tr th:only-of-type {\n",
       "        vertical-align: middle;\n",
       "    }\n",
       "\n",
       "    .dataframe tbody tr th {\n",
       "        vertical-align: top;\n",
       "    }\n",
       "\n",
       "    .dataframe thead th {\n",
       "        text-align: right;\n",
       "    }\n",
       "</style>\n",
       "<table border=\"1\" class=\"dataframe\">\n",
       "  <thead>\n",
       "    <tr style=\"text-align: right;\">\n",
       "      <th></th>\n",
       "      <th>id</th>\n",
       "      <th>name</th>\n",
       "      <th>firstAdded</th>\n",
       "      <th>type</th>\n",
       "      <th>weight</th>\n",
       "      <th>weaponType</th>\n",
       "      <th>level</th>\n",
       "      <th>rarity</th>\n",
       "      <th>upgarade1</th>\n",
       "      <th>AccoountBound</th>\n",
       "      <th>...</th>\n",
       "      <th>1d_sell_quantity_avg</th>\n",
       "      <th>1d_sell_quantity_max</th>\n",
       "      <th>1d_sell_quantity_min</th>\n",
       "      <th>1d_sell_sold</th>\n",
       "      <th>1d_sell_value</th>\n",
       "      <th>buy_cutoff_price</th>\n",
       "      <th>buy_listings</th>\n",
       "      <th>sell_cutoff_price</th>\n",
       "      <th>sell_listings</th>\n",
       "      <th>loadDateTime</th>\n",
       "    </tr>\n",
       "  </thead>\n",
       "  <tbody>\n",
       "    <tr>\n",
       "      <th>0</th>\n",
       "      <td>19721</td>\n",
       "      <td>Glob of Ectoplasm</td>\n",
       "      <td>2018-03-21T00:12:02.715Z</td>\n",
       "      <td>Trophy</td>\n",
       "      <td>NaN</td>\n",
       "      <td>NaN</td>\n",
       "      <td>0</td>\n",
       "      <td>Exotic</td>\n",
       "      <td>NaN</td>\n",
       "      <td>NaN</td>\n",
       "      <td>...</td>\n",
       "      <td>469941.0</td>\n",
       "      <td>497017.0</td>\n",
       "      <td>454234.0</td>\n",
       "      <td>77601.0</td>\n",
       "      <td>259092358.0</td>\n",
       "      <td>[object Object]</td>\n",
       "      <td>5634.0</td>\n",
       "      <td>[object Object]</td>\n",
       "      <td>4576.0</td>\n",
       "      <td>2024-05-01 10:20:16</td>\n",
       "    </tr>\n",
       "    <tr>\n",
       "      <th>1</th>\n",
       "      <td>19721</td>\n",
       "      <td>Glob of Ectoplasm</td>\n",
       "      <td>2018-03-21T00:12:02.715Z</td>\n",
       "      <td>Trophy</td>\n",
       "      <td>NaN</td>\n",
       "      <td>NaN</td>\n",
       "      <td>0</td>\n",
       "      <td>Exotic</td>\n",
       "      <td>NaN</td>\n",
       "      <td>NaN</td>\n",
       "      <td>...</td>\n",
       "      <td>469941.0</td>\n",
       "      <td>497017.0</td>\n",
       "      <td>454234.0</td>\n",
       "      <td>77601.0</td>\n",
       "      <td>259092358.0</td>\n",
       "      <td>[object Object]</td>\n",
       "      <td>5642.0</td>\n",
       "      <td>[object Object]</td>\n",
       "      <td>4527.0</td>\n",
       "      <td>NaN</td>\n",
       "    </tr>\n",
       "    <tr>\n",
       "      <th>2</th>\n",
       "      <td>19721</td>\n",
       "      <td>Glob of Ectoplasm</td>\n",
       "      <td>2018-03-21T00:12:02.715Z</td>\n",
       "      <td>Trophy</td>\n",
       "      <td>NaN</td>\n",
       "      <td>NaN</td>\n",
       "      <td>0</td>\n",
       "      <td>Exotic</td>\n",
       "      <td>NaN</td>\n",
       "      <td>NaN</td>\n",
       "      <td>...</td>\n",
       "      <td>469941.0</td>\n",
       "      <td>497017.0</td>\n",
       "      <td>454234.0</td>\n",
       "      <td>77601.0</td>\n",
       "      <td>259092358.0</td>\n",
       "      <td>[object Object]</td>\n",
       "      <td>5637.0</td>\n",
       "      <td>[object Object]</td>\n",
       "      <td>4525.0</td>\n",
       "      <td>2024-05-01 10:30:07</td>\n",
       "    </tr>\n",
       "    <tr>\n",
       "      <th>3</th>\n",
       "      <td>19721</td>\n",
       "      <td>Glob of Ectoplasm</td>\n",
       "      <td>2018-03-21T00:12:02.715Z</td>\n",
       "      <td>Trophy</td>\n",
       "      <td>NaN</td>\n",
       "      <td>NaN</td>\n",
       "      <td>0</td>\n",
       "      <td>Exotic</td>\n",
       "      <td>NaN</td>\n",
       "      <td>NaN</td>\n",
       "      <td>...</td>\n",
       "      <td>469941.0</td>\n",
       "      <td>497017.0</td>\n",
       "      <td>454234.0</td>\n",
       "      <td>77601.0</td>\n",
       "      <td>259092358.0</td>\n",
       "      <td>[object Object]</td>\n",
       "      <td>5637.0</td>\n",
       "      <td>[object Object]</td>\n",
       "      <td>4525.0</td>\n",
       "      <td>2024-05-01 10:35:06</td>\n",
       "    </tr>\n",
       "    <tr>\n",
       "      <th>4</th>\n",
       "      <td>19721</td>\n",
       "      <td>Glob of Ectoplasm</td>\n",
       "      <td>2018-03-21T00:12:02.715Z</td>\n",
       "      <td>Trophy</td>\n",
       "      <td>NaN</td>\n",
       "      <td>NaN</td>\n",
       "      <td>0</td>\n",
       "      <td>Exotic</td>\n",
       "      <td>NaN</td>\n",
       "      <td>NaN</td>\n",
       "      <td>...</td>\n",
       "      <td>469941.0</td>\n",
       "      <td>497017.0</td>\n",
       "      <td>454234.0</td>\n",
       "      <td>77601.0</td>\n",
       "      <td>259092358.0</td>\n",
       "      <td>[object Object]</td>\n",
       "      <td>5638.0</td>\n",
       "      <td>[object Object]</td>\n",
       "      <td>4493.0</td>\n",
       "      <td>2024-05-01 10:40:08</td>\n",
       "    </tr>\n",
       "    <tr>\n",
       "      <th>5</th>\n",
       "      <td>19721</td>\n",
       "      <td>Glob of Ectoplasm</td>\n",
       "      <td>2018-03-21T00:12:02.715Z</td>\n",
       "      <td>Trophy</td>\n",
       "      <td>NaN</td>\n",
       "      <td>NaN</td>\n",
       "      <td>0</td>\n",
       "      <td>Exotic</td>\n",
       "      <td>NaN</td>\n",
       "      <td>NaN</td>\n",
       "      <td>...</td>\n",
       "      <td>469941.0</td>\n",
       "      <td>497017.0</td>\n",
       "      <td>454234.0</td>\n",
       "      <td>77601.0</td>\n",
       "      <td>259092358.0</td>\n",
       "      <td>[object Object]</td>\n",
       "      <td>5637.0</td>\n",
       "      <td>[object Object]</td>\n",
       "      <td>4485.0</td>\n",
       "      <td>2024-05-01 10:45:06</td>\n",
       "    </tr>\n",
       "    <tr>\n",
       "      <th>6</th>\n",
       "      <td>19721</td>\n",
       "      <td>Glob of Ectoplasm</td>\n",
       "      <td>2018-03-21T00:12:02.715Z</td>\n",
       "      <td>Trophy</td>\n",
       "      <td>NaN</td>\n",
       "      <td>NaN</td>\n",
       "      <td>0</td>\n",
       "      <td>Exotic</td>\n",
       "      <td>NaN</td>\n",
       "      <td>NaN</td>\n",
       "      <td>...</td>\n",
       "      <td>469941.0</td>\n",
       "      <td>497017.0</td>\n",
       "      <td>454234.0</td>\n",
       "      <td>77601.0</td>\n",
       "      <td>259092358.0</td>\n",
       "      <td>[object Object]</td>\n",
       "      <td>5638.0</td>\n",
       "      <td>[object Object]</td>\n",
       "      <td>4485.0</td>\n",
       "      <td>2024-05-01 10:50:08</td>\n",
       "    </tr>\n",
       "    <tr>\n",
       "      <th>7</th>\n",
       "      <td>19721</td>\n",
       "      <td>Glob of Ectoplasm</td>\n",
       "      <td>2018-03-21T00:12:02.715Z</td>\n",
       "      <td>Trophy</td>\n",
       "      <td>NaN</td>\n",
       "      <td>NaN</td>\n",
       "      <td>0</td>\n",
       "      <td>Exotic</td>\n",
       "      <td>NaN</td>\n",
       "      <td>NaN</td>\n",
       "      <td>...</td>\n",
       "      <td>469941.0</td>\n",
       "      <td>497017.0</td>\n",
       "      <td>454234.0</td>\n",
       "      <td>77601.0</td>\n",
       "      <td>259092358.0</td>\n",
       "      <td>[object Object]</td>\n",
       "      <td>5642.0</td>\n",
       "      <td>[object Object]</td>\n",
       "      <td>4480.0</td>\n",
       "      <td>2024-05-01 10:55:08</td>\n",
       "    </tr>\n",
       "    <tr>\n",
       "      <th>8</th>\n",
       "      <td>19721</td>\n",
       "      <td>Glob of Ectoplasm</td>\n",
       "      <td>2018-03-21T00:12:02.715Z</td>\n",
       "      <td>Trophy</td>\n",
       "      <td>NaN</td>\n",
       "      <td>NaN</td>\n",
       "      <td>0</td>\n",
       "      <td>Exotic</td>\n",
       "      <td>NaN</td>\n",
       "      <td>NaN</td>\n",
       "      <td>...</td>\n",
       "      <td>469941.0</td>\n",
       "      <td>497017.0</td>\n",
       "      <td>454234.0</td>\n",
       "      <td>77601.0</td>\n",
       "      <td>259092358.0</td>\n",
       "      <td>[object Object]</td>\n",
       "      <td>5642.0</td>\n",
       "      <td>[object Object]</td>\n",
       "      <td>4480.0</td>\n",
       "      <td>2024-05-01 11:00:08</td>\n",
       "    </tr>\n",
       "    <tr>\n",
       "      <th>9</th>\n",
       "      <td>19721</td>\n",
       "      <td>Glob of Ectoplasm</td>\n",
       "      <td>2018-03-21T00:12:02.715Z</td>\n",
       "      <td>Trophy</td>\n",
       "      <td>NaN</td>\n",
       "      <td>NaN</td>\n",
       "      <td>0</td>\n",
       "      <td>Exotic</td>\n",
       "      <td>NaN</td>\n",
       "      <td>NaN</td>\n",
       "      <td>...</td>\n",
       "      <td>469941.0</td>\n",
       "      <td>497017.0</td>\n",
       "      <td>454234.0</td>\n",
       "      <td>77601.0</td>\n",
       "      <td>259092358.0</td>\n",
       "      <td>[object Object]</td>\n",
       "      <td>5644.0</td>\n",
       "      <td>[object Object]</td>\n",
       "      <td>4501.0</td>\n",
       "      <td>2024-05-01 11:05:10</td>\n",
       "    </tr>\n",
       "  </tbody>\n",
       "</table>\n",
       "<p>10 rows × 43 columns</p>\n",
       "</div>"
      ],
      "text/plain": [
       "      id               name                firstAdded    type  weight  \\\n",
       "0  19721  Glob of Ectoplasm  2018-03-21T00:12:02.715Z  Trophy     NaN   \n",
       "1  19721  Glob of Ectoplasm  2018-03-21T00:12:02.715Z  Trophy     NaN   \n",
       "2  19721  Glob of Ectoplasm  2018-03-21T00:12:02.715Z  Trophy     NaN   \n",
       "3  19721  Glob of Ectoplasm  2018-03-21T00:12:02.715Z  Trophy     NaN   \n",
       "4  19721  Glob of Ectoplasm  2018-03-21T00:12:02.715Z  Trophy     NaN   \n",
       "5  19721  Glob of Ectoplasm  2018-03-21T00:12:02.715Z  Trophy     NaN   \n",
       "6  19721  Glob of Ectoplasm  2018-03-21T00:12:02.715Z  Trophy     NaN   \n",
       "7  19721  Glob of Ectoplasm  2018-03-21T00:12:02.715Z  Trophy     NaN   \n",
       "8  19721  Glob of Ectoplasm  2018-03-21T00:12:02.715Z  Trophy     NaN   \n",
       "9  19721  Glob of Ectoplasm  2018-03-21T00:12:02.715Z  Trophy     NaN   \n",
       "\n",
       "   weaponType  level  rarity  upgarade1  AccoountBound  ...  \\\n",
       "0         NaN      0  Exotic        NaN            NaN  ...   \n",
       "1         NaN      0  Exotic        NaN            NaN  ...   \n",
       "2         NaN      0  Exotic        NaN            NaN  ...   \n",
       "3         NaN      0  Exotic        NaN            NaN  ...   \n",
       "4         NaN      0  Exotic        NaN            NaN  ...   \n",
       "5         NaN      0  Exotic        NaN            NaN  ...   \n",
       "6         NaN      0  Exotic        NaN            NaN  ...   \n",
       "7         NaN      0  Exotic        NaN            NaN  ...   \n",
       "8         NaN      0  Exotic        NaN            NaN  ...   \n",
       "9         NaN      0  Exotic        NaN            NaN  ...   \n",
       "\n",
       "   1d_sell_quantity_avg  1d_sell_quantity_max  1d_sell_quantity_min  \\\n",
       "0              469941.0              497017.0              454234.0   \n",
       "1              469941.0              497017.0              454234.0   \n",
       "2              469941.0              497017.0              454234.0   \n",
       "3              469941.0              497017.0              454234.0   \n",
       "4              469941.0              497017.0              454234.0   \n",
       "5              469941.0              497017.0              454234.0   \n",
       "6              469941.0              497017.0              454234.0   \n",
       "7              469941.0              497017.0              454234.0   \n",
       "8              469941.0              497017.0              454234.0   \n",
       "9              469941.0              497017.0              454234.0   \n",
       "\n",
       "   1d_sell_sold  1d_sell_value buy_cutoff_price  buy_listings  \\\n",
       "0       77601.0    259092358.0  [object Object]        5634.0   \n",
       "1       77601.0    259092358.0  [object Object]        5642.0   \n",
       "2       77601.0    259092358.0  [object Object]        5637.0   \n",
       "3       77601.0    259092358.0  [object Object]        5637.0   \n",
       "4       77601.0    259092358.0  [object Object]        5638.0   \n",
       "5       77601.0    259092358.0  [object Object]        5637.0   \n",
       "6       77601.0    259092358.0  [object Object]        5638.0   \n",
       "7       77601.0    259092358.0  [object Object]        5642.0   \n",
       "8       77601.0    259092358.0  [object Object]        5642.0   \n",
       "9       77601.0    259092358.0  [object Object]        5644.0   \n",
       "\n",
       "   sell_cutoff_price  sell_listings         loadDateTime  \n",
       "0    [object Object]         4576.0  2024-05-01 10:20:16  \n",
       "1    [object Object]         4527.0                  NaN  \n",
       "2    [object Object]         4525.0  2024-05-01 10:30:07  \n",
       "3    [object Object]         4525.0  2024-05-01 10:35:06  \n",
       "4    [object Object]         4493.0  2024-05-01 10:40:08  \n",
       "5    [object Object]         4485.0  2024-05-01 10:45:06  \n",
       "6    [object Object]         4485.0  2024-05-01 10:50:08  \n",
       "7    [object Object]         4480.0  2024-05-01 10:55:08  \n",
       "8    [object Object]         4480.0  2024-05-01 11:00:08  \n",
       "9    [object Object]         4501.0  2024-05-01 11:05:10  \n",
       "\n",
       "[10 rows x 43 columns]"
      ]
     },
     "execution_count": 46,
     "metadata": {},
     "output_type": "execute_result"
    }
   ],
   "source": [
    "import pandas as pd\n",
    "\n",
    "# Assuming the CSV file is named 'your_file.csv', change this to your actual file name\n",
    "file_path = 'master_data_v2.csv'\n",
    "\n",
    "# Read the CSV file into a DataFrame\n",
    "df = pd.read_csv(file_path)\n",
    "\n",
    "# Filter the DataFrame where 'id' column equals 19721 and display the first 10 rows\n",
    "df_filtered = df[df['id'] == 19721]\n",
    "df_filtered.head(10)"
   ]
  },
  {
   "cell_type": "code",
   "execution_count": 47,
   "metadata": {},
   "outputs": [
    {
     "data": {
      "text/html": [
       "<div>\n",
       "<style scoped>\n",
       "    .dataframe tbody tr th:only-of-type {\n",
       "        vertical-align: middle;\n",
       "    }\n",
       "\n",
       "    .dataframe tbody tr th {\n",
       "        vertical-align: top;\n",
       "    }\n",
       "\n",
       "    .dataframe thead th {\n",
       "        text-align: right;\n",
       "    }\n",
       "</style>\n",
       "<table border=\"1\" class=\"dataframe\">\n",
       "  <thead>\n",
       "    <tr style=\"text-align: right;\">\n",
       "      <th></th>\n",
       "      <th>id</th>\n",
       "      <th>name</th>\n",
       "      <th>lastUpdate</th>\n",
       "      <th>type</th>\n",
       "      <th>rarity</th>\n",
       "      <th>vendor_value</th>\n",
       "      <th>buy_price</th>\n",
       "      <th>buy_quantity</th>\n",
       "      <th>sell_price</th>\n",
       "      <th>sell_quantity</th>\n",
       "      <th>profit</th>\n",
       "    </tr>\n",
       "  </thead>\n",
       "  <tbody>\n",
       "    <tr>\n",
       "      <th>0</th>\n",
       "      <td>19721</td>\n",
       "      <td>Glob of Ectoplasm</td>\n",
       "      <td>2024-05-01 17:17:11</td>\n",
       "      <td>Trophy</td>\n",
       "      <td>Exotic</td>\n",
       "      <td>256</td>\n",
       "      <td>3290.0</td>\n",
       "      <td>333747.0</td>\n",
       "      <td>3413.0</td>\n",
       "      <td>461827.0</td>\n",
       "      <td>-389.0</td>\n",
       "    </tr>\n",
       "    <tr>\n",
       "      <th>1</th>\n",
       "      <td>19721</td>\n",
       "      <td>Glob of Ectoplasm</td>\n",
       "      <td>2024-05-01 17:21:50</td>\n",
       "      <td>Trophy</td>\n",
       "      <td>Exotic</td>\n",
       "      <td>256</td>\n",
       "      <td>3311.0</td>\n",
       "      <td>334932.0</td>\n",
       "      <td>3418.0</td>\n",
       "      <td>457992.0</td>\n",
       "      <td>-406.0</td>\n",
       "    </tr>\n",
       "    <tr>\n",
       "      <th>2</th>\n",
       "      <td>19721</td>\n",
       "      <td>Glob of Ectoplasm</td>\n",
       "      <td>2024-05-01 17:28:38</td>\n",
       "      <td>Trophy</td>\n",
       "      <td>Exotic</td>\n",
       "      <td>256</td>\n",
       "      <td>3313.0</td>\n",
       "      <td>336123.0</td>\n",
       "      <td>3415.0</td>\n",
       "      <td>456506.0</td>\n",
       "      <td>-410.0</td>\n",
       "    </tr>\n",
       "    <tr>\n",
       "      <th>3</th>\n",
       "      <td>19721</td>\n",
       "      <td>Glob of Ectoplasm</td>\n",
       "      <td>2024-05-01 17:28:38</td>\n",
       "      <td>Trophy</td>\n",
       "      <td>Exotic</td>\n",
       "      <td>256</td>\n",
       "      <td>3313.0</td>\n",
       "      <td>336123.0</td>\n",
       "      <td>3415.0</td>\n",
       "      <td>456506.0</td>\n",
       "      <td>-410.0</td>\n",
       "    </tr>\n",
       "    <tr>\n",
       "      <th>4</th>\n",
       "      <td>19721</td>\n",
       "      <td>Glob of Ectoplasm</td>\n",
       "      <td>2024-05-01 17:37:04</td>\n",
       "      <td>Trophy</td>\n",
       "      <td>Exotic</td>\n",
       "      <td>256</td>\n",
       "      <td>3316.0</td>\n",
       "      <td>336312.0</td>\n",
       "      <td>3434.0</td>\n",
       "      <td>452951.0</td>\n",
       "      <td>-397.0</td>\n",
       "    </tr>\n",
       "    <tr>\n",
       "      <th>...</th>\n",
       "      <td>...</td>\n",
       "      <td>...</td>\n",
       "      <td>...</td>\n",
       "      <td>...</td>\n",
       "      <td>...</td>\n",
       "      <td>...</td>\n",
       "      <td>...</td>\n",
       "      <td>...</td>\n",
       "      <td>...</td>\n",
       "      <td>...</td>\n",
       "      <td>...</td>\n",
       "    </tr>\n",
       "    <tr>\n",
       "      <th>178</th>\n",
       "      <td>19721</td>\n",
       "      <td>Glob of Ectoplasm</td>\n",
       "      <td>2024-05-02 19:53:44</td>\n",
       "      <td>Trophy</td>\n",
       "      <td>Exotic</td>\n",
       "      <td>256</td>\n",
       "      <td>3268.0</td>\n",
       "      <td>337980.0</td>\n",
       "      <td>3482.0</td>\n",
       "      <td>437667.0</td>\n",
       "      <td>-308.0</td>\n",
       "    </tr>\n",
       "    <tr>\n",
       "      <th>179</th>\n",
       "      <td>19721</td>\n",
       "      <td>Glob of Ectoplasm</td>\n",
       "      <td>2024-05-02 20:01:36</td>\n",
       "      <td>Trophy</td>\n",
       "      <td>Exotic</td>\n",
       "      <td>256</td>\n",
       "      <td>3269.0</td>\n",
       "      <td>338119.0</td>\n",
       "      <td>3479.0</td>\n",
       "      <td>437363.0</td>\n",
       "      <td>-312.0</td>\n",
       "    </tr>\n",
       "    <tr>\n",
       "      <th>180</th>\n",
       "      <td>19721</td>\n",
       "      <td>Glob of Ectoplasm</td>\n",
       "      <td>2024-05-02 20:07:53</td>\n",
       "      <td>Trophy</td>\n",
       "      <td>Exotic</td>\n",
       "      <td>256</td>\n",
       "      <td>3272.0</td>\n",
       "      <td>339411.0</td>\n",
       "      <td>3479.0</td>\n",
       "      <td>437437.0</td>\n",
       "      <td>-315.0</td>\n",
       "    </tr>\n",
       "    <tr>\n",
       "      <th>181</th>\n",
       "      <td>19721</td>\n",
       "      <td>Glob of Ectoplasm</td>\n",
       "      <td>2024-05-02 20:14:09</td>\n",
       "      <td>Trophy</td>\n",
       "      <td>Exotic</td>\n",
       "      <td>256</td>\n",
       "      <td>3278.0</td>\n",
       "      <td>338383.0</td>\n",
       "      <td>3472.0</td>\n",
       "      <td>433050.0</td>\n",
       "      <td>-327.0</td>\n",
       "    </tr>\n",
       "    <tr>\n",
       "      <th>182</th>\n",
       "      <td>19721</td>\n",
       "      <td>Glob of Ectoplasm</td>\n",
       "      <td>2024-05-02 20:19:25</td>\n",
       "      <td>Trophy</td>\n",
       "      <td>Exotic</td>\n",
       "      <td>256</td>\n",
       "      <td>3279.0</td>\n",
       "      <td>338484.0</td>\n",
       "      <td>3468.0</td>\n",
       "      <td>434230.0</td>\n",
       "      <td>-331.0</td>\n",
       "    </tr>\n",
       "  </tbody>\n",
       "</table>\n",
       "<p>183 rows × 11 columns</p>\n",
       "</div>"
      ],
      "text/plain": [
       "        id               name           lastUpdate    type  rarity  \\\n",
       "0    19721  Glob of Ectoplasm  2024-05-01 17:17:11  Trophy  Exotic   \n",
       "1    19721  Glob of Ectoplasm  2024-05-01 17:21:50  Trophy  Exotic   \n",
       "2    19721  Glob of Ectoplasm  2024-05-01 17:28:38  Trophy  Exotic   \n",
       "3    19721  Glob of Ectoplasm  2024-05-01 17:28:38  Trophy  Exotic   \n",
       "4    19721  Glob of Ectoplasm  2024-05-01 17:37:04  Trophy  Exotic   \n",
       "..     ...                ...                  ...     ...     ...   \n",
       "178  19721  Glob of Ectoplasm  2024-05-02 19:53:44  Trophy  Exotic   \n",
       "179  19721  Glob of Ectoplasm  2024-05-02 20:01:36  Trophy  Exotic   \n",
       "180  19721  Glob of Ectoplasm  2024-05-02 20:07:53  Trophy  Exotic   \n",
       "181  19721  Glob of Ectoplasm  2024-05-02 20:14:09  Trophy  Exotic   \n",
       "182  19721  Glob of Ectoplasm  2024-05-02 20:19:25  Trophy  Exotic   \n",
       "\n",
       "     vendor_value  buy_price  buy_quantity  sell_price  sell_quantity  profit  \n",
       "0             256     3290.0      333747.0      3413.0       461827.0  -389.0  \n",
       "1             256     3311.0      334932.0      3418.0       457992.0  -406.0  \n",
       "2             256     3313.0      336123.0      3415.0       456506.0  -410.0  \n",
       "3             256     3313.0      336123.0      3415.0       456506.0  -410.0  \n",
       "4             256     3316.0      336312.0      3434.0       452951.0  -397.0  \n",
       "..            ...        ...           ...         ...            ...     ...  \n",
       "178           256     3268.0      337980.0      3482.0       437667.0  -308.0  \n",
       "179           256     3269.0      338119.0      3479.0       437363.0  -312.0  \n",
       "180           256     3272.0      339411.0      3479.0       437437.0  -315.0  \n",
       "181           256     3278.0      338383.0      3472.0       433050.0  -327.0  \n",
       "182           256     3279.0      338484.0      3468.0       434230.0  -331.0  \n",
       "\n",
       "[183 rows x 11 columns]"
      ]
     },
     "execution_count": 47,
     "metadata": {},
     "output_type": "execute_result"
    }
   ],
   "source": [
    "import pandas as pd\n",
    "\n",
    "# Assuming the CSV file is named 'your_file.csv', change this to your actual file name\n",
    "file_path = 'master_data_v2.csv'\n",
    "\n",
    "# Read the CSV file into a DataFrame\n",
    "df = pd.read_csv(file_path)\n",
    "\n",
    "# Filter the DataFrame where 'id' column equals 19721 and display the first 10 rows\n",
    "df_filtered = df[df['id'] == 19721]\n",
    "columns_to_display = ['id', 'name', 'lastUpdate', 'type', 'rarity', 'vendor_value', 'buy_price', 'buy_quantity','sell_price','sell_quantity', 'profit']\n",
    "df_filtered[columns_to_display]"
   ]
  },
  {
   "cell_type": "code",
   "execution_count": 48,
   "metadata": {},
   "outputs": [
    {
     "data": {
      "text/html": [
       "<div>\n",
       "<style scoped>\n",
       "    .dataframe tbody tr th:only-of-type {\n",
       "        vertical-align: middle;\n",
       "    }\n",
       "\n",
       "    .dataframe tbody tr th {\n",
       "        vertical-align: top;\n",
       "    }\n",
       "\n",
       "    .dataframe thead th {\n",
       "        text-align: right;\n",
       "    }\n",
       "</style>\n",
       "<table border=\"1\" class=\"dataframe\">\n",
       "  <thead>\n",
       "    <tr style=\"text-align: right;\">\n",
       "      <th></th>\n",
       "      <th>id</th>\n",
       "      <th>name</th>\n",
       "      <th>lastUpdate</th>\n",
       "      <th>type</th>\n",
       "      <th>rarity</th>\n",
       "      <th>vendor_value</th>\n",
       "      <th>buy_price</th>\n",
       "      <th>buy_quantity</th>\n",
       "      <th>sell_price</th>\n",
       "      <th>sell_quantity</th>\n",
       "      <th>profit</th>\n",
       "    </tr>\n",
       "  </thead>\n",
       "  <tbody>\n",
       "    <tr>\n",
       "      <th>0</th>\n",
       "      <td>19721</td>\n",
       "      <td>Glob of Ectoplasm</td>\n",
       "      <td>2024-05-01 17:17:11</td>\n",
       "      <td>Trophy</td>\n",
       "      <td>Exotic</td>\n",
       "      <td>2s 56c</td>\n",
       "      <td>32s 90c</td>\n",
       "      <td>333747.0</td>\n",
       "      <td>34s 13c</td>\n",
       "      <td>461827.0</td>\n",
       "      <td>-3s 89c</td>\n",
       "    </tr>\n",
       "    <tr>\n",
       "      <th>1</th>\n",
       "      <td>19721</td>\n",
       "      <td>Glob of Ectoplasm</td>\n",
       "      <td>2024-05-01 17:21:50</td>\n",
       "      <td>Trophy</td>\n",
       "      <td>Exotic</td>\n",
       "      <td>2s 56c</td>\n",
       "      <td>33s 11c</td>\n",
       "      <td>334932.0</td>\n",
       "      <td>34s 18c</td>\n",
       "      <td>457992.0</td>\n",
       "      <td>-4s 6c</td>\n",
       "    </tr>\n",
       "    <tr>\n",
       "      <th>2</th>\n",
       "      <td>19721</td>\n",
       "      <td>Glob of Ectoplasm</td>\n",
       "      <td>2024-05-01 17:28:38</td>\n",
       "      <td>Trophy</td>\n",
       "      <td>Exotic</td>\n",
       "      <td>2s 56c</td>\n",
       "      <td>33s 13c</td>\n",
       "      <td>336123.0</td>\n",
       "      <td>34s 15c</td>\n",
       "      <td>456506.0</td>\n",
       "      <td>-4s 10c</td>\n",
       "    </tr>\n",
       "    <tr>\n",
       "      <th>3</th>\n",
       "      <td>19721</td>\n",
       "      <td>Glob of Ectoplasm</td>\n",
       "      <td>2024-05-01 17:28:38</td>\n",
       "      <td>Trophy</td>\n",
       "      <td>Exotic</td>\n",
       "      <td>2s 56c</td>\n",
       "      <td>33s 13c</td>\n",
       "      <td>336123.0</td>\n",
       "      <td>34s 15c</td>\n",
       "      <td>456506.0</td>\n",
       "      <td>-4s 10c</td>\n",
       "    </tr>\n",
       "    <tr>\n",
       "      <th>4</th>\n",
       "      <td>19721</td>\n",
       "      <td>Glob of Ectoplasm</td>\n",
       "      <td>2024-05-01 17:37:04</td>\n",
       "      <td>Trophy</td>\n",
       "      <td>Exotic</td>\n",
       "      <td>2s 56c</td>\n",
       "      <td>33s 16c</td>\n",
       "      <td>336312.0</td>\n",
       "      <td>34s 34c</td>\n",
       "      <td>452951.0</td>\n",
       "      <td>-3s 97c</td>\n",
       "    </tr>\n",
       "    <tr>\n",
       "      <th>...</th>\n",
       "      <td>...</td>\n",
       "      <td>...</td>\n",
       "      <td>...</td>\n",
       "      <td>...</td>\n",
       "      <td>...</td>\n",
       "      <td>...</td>\n",
       "      <td>...</td>\n",
       "      <td>...</td>\n",
       "      <td>...</td>\n",
       "      <td>...</td>\n",
       "      <td>...</td>\n",
       "    </tr>\n",
       "    <tr>\n",
       "      <th>178</th>\n",
       "      <td>19721</td>\n",
       "      <td>Glob of Ectoplasm</td>\n",
       "      <td>2024-05-02 19:53:44</td>\n",
       "      <td>Trophy</td>\n",
       "      <td>Exotic</td>\n",
       "      <td>2s 56c</td>\n",
       "      <td>32s 68c</td>\n",
       "      <td>337980.0</td>\n",
       "      <td>34s 82c</td>\n",
       "      <td>437667.0</td>\n",
       "      <td>-3s 8c</td>\n",
       "    </tr>\n",
       "    <tr>\n",
       "      <th>179</th>\n",
       "      <td>19721</td>\n",
       "      <td>Glob of Ectoplasm</td>\n",
       "      <td>2024-05-02 20:01:36</td>\n",
       "      <td>Trophy</td>\n",
       "      <td>Exotic</td>\n",
       "      <td>2s 56c</td>\n",
       "      <td>32s 69c</td>\n",
       "      <td>338119.0</td>\n",
       "      <td>34s 79c</td>\n",
       "      <td>437363.0</td>\n",
       "      <td>-3s 12c</td>\n",
       "    </tr>\n",
       "    <tr>\n",
       "      <th>180</th>\n",
       "      <td>19721</td>\n",
       "      <td>Glob of Ectoplasm</td>\n",
       "      <td>2024-05-02 20:07:53</td>\n",
       "      <td>Trophy</td>\n",
       "      <td>Exotic</td>\n",
       "      <td>2s 56c</td>\n",
       "      <td>32s 72c</td>\n",
       "      <td>339411.0</td>\n",
       "      <td>34s 79c</td>\n",
       "      <td>437437.0</td>\n",
       "      <td>-3s 15c</td>\n",
       "    </tr>\n",
       "    <tr>\n",
       "      <th>181</th>\n",
       "      <td>19721</td>\n",
       "      <td>Glob of Ectoplasm</td>\n",
       "      <td>2024-05-02 20:14:09</td>\n",
       "      <td>Trophy</td>\n",
       "      <td>Exotic</td>\n",
       "      <td>2s 56c</td>\n",
       "      <td>32s 78c</td>\n",
       "      <td>338383.0</td>\n",
       "      <td>34s 72c</td>\n",
       "      <td>433050.0</td>\n",
       "      <td>-3s 27c</td>\n",
       "    </tr>\n",
       "    <tr>\n",
       "      <th>182</th>\n",
       "      <td>19721</td>\n",
       "      <td>Glob of Ectoplasm</td>\n",
       "      <td>2024-05-02 20:19:25</td>\n",
       "      <td>Trophy</td>\n",
       "      <td>Exotic</td>\n",
       "      <td>2s 56c</td>\n",
       "      <td>32s 79c</td>\n",
       "      <td>338484.0</td>\n",
       "      <td>34s 68c</td>\n",
       "      <td>434230.0</td>\n",
       "      <td>-3s 31c</td>\n",
       "    </tr>\n",
       "  </tbody>\n",
       "</table>\n",
       "<p>183 rows × 11 columns</p>\n",
       "</div>"
      ],
      "text/plain": [
       "        id               name           lastUpdate    type  rarity  \\\n",
       "0    19721  Glob of Ectoplasm  2024-05-01 17:17:11  Trophy  Exotic   \n",
       "1    19721  Glob of Ectoplasm  2024-05-01 17:21:50  Trophy  Exotic   \n",
       "2    19721  Glob of Ectoplasm  2024-05-01 17:28:38  Trophy  Exotic   \n",
       "3    19721  Glob of Ectoplasm  2024-05-01 17:28:38  Trophy  Exotic   \n",
       "4    19721  Glob of Ectoplasm  2024-05-01 17:37:04  Trophy  Exotic   \n",
       "..     ...                ...                  ...     ...     ...   \n",
       "178  19721  Glob of Ectoplasm  2024-05-02 19:53:44  Trophy  Exotic   \n",
       "179  19721  Glob of Ectoplasm  2024-05-02 20:01:36  Trophy  Exotic   \n",
       "180  19721  Glob of Ectoplasm  2024-05-02 20:07:53  Trophy  Exotic   \n",
       "181  19721  Glob of Ectoplasm  2024-05-02 20:14:09  Trophy  Exotic   \n",
       "182  19721  Glob of Ectoplasm  2024-05-02 20:19:25  Trophy  Exotic   \n",
       "\n",
       "    vendor_value buy_price  buy_quantity sell_price  sell_quantity   profit  \n",
       "0         2s 56c   32s 90c      333747.0    34s 13c       461827.0  -3s 89c  \n",
       "1         2s 56c   33s 11c      334932.0    34s 18c       457992.0   -4s 6c  \n",
       "2         2s 56c   33s 13c      336123.0    34s 15c       456506.0  -4s 10c  \n",
       "3         2s 56c   33s 13c      336123.0    34s 15c       456506.0  -4s 10c  \n",
       "4         2s 56c   33s 16c      336312.0    34s 34c       452951.0  -3s 97c  \n",
       "..           ...       ...           ...        ...            ...      ...  \n",
       "178       2s 56c   32s 68c      337980.0    34s 82c       437667.0   -3s 8c  \n",
       "179       2s 56c   32s 69c      338119.0    34s 79c       437363.0  -3s 12c  \n",
       "180       2s 56c   32s 72c      339411.0    34s 79c       437437.0  -3s 15c  \n",
       "181       2s 56c   32s 78c      338383.0    34s 72c       433050.0  -3s 27c  \n",
       "182       2s 56c   32s 79c      338484.0    34s 68c       434230.0  -3s 31c  \n",
       "\n",
       "[183 rows x 11 columns]"
      ]
     },
     "execution_count": 48,
     "metadata": {},
     "output_type": "execute_result"
    }
   ],
   "source": [
    "import pandas as pd\n",
    "import math\n",
    "\n",
    "# Assuming the CSV file is named 'your_file.csv', change this to your actual file name\n",
    "file_path = 'master_data_v2.csv'\n",
    "\n",
    "# Read the CSV file into a DataFrame\n",
    "df = pd.read_csv(file_path)\n",
    "\n",
    "# Filter the DataFrame where 'id' column equals 19721\n",
    "df_filtered = df[df['id'] == 19721]\n",
    "\n",
    "# Function to convert values to gold, silver, bronze\n",
    "def convert_to_currency(value):\n",
    "    # Handle negative values\n",
    "    is_negative = value < 0\n",
    "    value = abs(value)  # Convert to positive for calculation\n",
    "\n",
    "    # Calculate gold, silver, bronze components\n",
    "    gold = value // 10000\n",
    "    silver = (value % 10000) // 100\n",
    "    bronze = value % 100\n",
    "\n",
    "    # Format the currency string\n",
    "    currency_str = ''\n",
    "    if gold > 0:\n",
    "        currency_str += f\"{gold}g \"\n",
    "    if silver > 0 or gold > 0:\n",
    "        currency_str += f\"{int(silver)}s \"  # Convert to integer to remove decimals\n",
    "    currency_str += f\"{math.floor(bronze)}c\"  # Round down to remove decimals\n",
    "\n",
    "    # Add negative sign if necessary\n",
    "    if is_negative:\n",
    "        currency_str = f\"-{currency_str}\"\n",
    "\n",
    "    return currency_str\n",
    "\n",
    "# Columns to convert\n",
    "columns_to_convert = ['vendor_value', 'buy_price', 'sell_price', 'profit']\n",
    "\n",
    "# Apply the conversion function to specified columns in the filtered DataFrame\n",
    "df_filtered[columns_to_convert] = df_filtered[columns_to_convert].applymap(convert_to_currency)\n",
    "\n",
    "# Select specific columns to display\n",
    "columns_to_display = ['id', 'name', 'lastUpdate', 'type', 'rarity', 'vendor_value', 'buy_price', 'buy_quantity','sell_price','sell_quantity', 'profit']\n",
    "\n",
    "# Display the converted DataFrame with specific columns\n",
    "df_filtered[columns_to_display]\n"
   ]
  },
  {
   "cell_type": "code",
   "execution_count": 49,
   "metadata": {},
   "outputs": [
    {
     "data": {
      "application/vnd.plotly.v1+json": {
       "config": {
        "plotlyServerURL": "https://plot.ly"
       },
       "data": [
        {
         "hovertemplate": "variable=sell_price<br>lastUpdate=%{x}<br>value=%{y}<extra></extra>",
         "legendgroup": "sell_price",
         "line": {
          "color": "#636efa",
          "dash": "solid"
         },
         "marker": {
          "symbol": "circle"
         },
         "mode": "lines",
         "name": "sell_price",
         "orientation": "v",
         "showlegend": true,
         "type": "scatter",
         "x": [
          "2024-05-01T17:17:11",
          "2024-05-01T17:21:50",
          "2024-05-01T17:28:38",
          "2024-05-01T17:28:38",
          "2024-05-01T17:37:04",
          "2024-05-01T17:43:05",
          "2024-05-01T17:47:42",
          "2024-05-01T17:54:01",
          "2024-05-01T17:54:01",
          "2024-05-01T18:00:08",
          "2024-05-01T18:08:15",
          "2024-05-01T18:08:15",
          "2024-05-01T18:16:45",
          "2024-05-01T18:22:46",
          "2024-05-01T18:26:22",
          "2024-05-01T18:32:39",
          "2024-05-01T18:36:52",
          "2024-05-01T18:36:52",
          "2024-05-01T18:44:54",
          "2024-05-01T18:50:55",
          "2024-05-01T18:59:31",
          "2024-05-01T18:59:31",
          "2024-05-01T19:08:43",
          "2024-05-01T19:13:03",
          "2024-05-01T19:13:03",
          "2024-05-01T19:20:24",
          "2024-05-01T19:28:16",
          "2024-05-01T19:30:56",
          "2024-05-01T19:38:18",
          "2024-05-01T19:38:18",
          "2024-05-01T19:45:31",
          "2024-05-01T19:50:34",
          "2024-05-01T19:56:04",
          "2024-05-01T20:01:42",
          "2024-05-01T20:07:42",
          "2024-05-01T20:12:56",
          "2024-05-01T20:15:47",
          "2024-05-01T20:20:13",
          "2024-05-01T20:29:30",
          "2024-05-01T20:34:25",
          "2024-05-01T20:39:11",
          "2024-05-01T20:42:32",
          "2024-05-01T20:49:20",
          "2024-05-01T20:49:20",
          "2024-05-01T20:55:57",
          "2024-05-01T21:01:29",
          "2024-05-01T21:09:23",
          "2024-05-01T21:13:03",
          "2024-05-01T21:18:49",
          "2024-05-01T21:21:36",
          "2024-05-01T21:28:00",
          "2024-05-01T21:30:19",
          "2024-05-01T21:37:02",
          "2024-05-01T21:44:45",
          "2024-05-01T21:48:46",
          "2024-05-01T21:52:46",
          "2024-05-01T21:56:56",
          "2024-05-01T22:01:51",
          "2024-05-01T22:08:53",
          "2024-05-01T22:13:23",
          "2024-05-01T22:18:01",
          "2024-05-01T22:21:26",
          "2024-05-01T22:28:49",
          "2024-05-01T22:32:39",
          "2024-05-01T22:36:35",
          "2024-05-01T22:41:59",
          "2024-05-01T22:49:00",
          "2024-05-01T22:52:54",
          "2024-05-01T22:56:38",
          "2024-05-01T23:00:50",
          "2024-05-01T23:08:47",
          "2024-05-01T23:12:34",
          "2024-05-01T23:17:11",
          "2024-05-01T23:24:35",
          "2024-05-01T23:28:49",
          "2024-05-01T23:32:35",
          "2024-05-01T23:36:34",
          "2024-05-01T23:44:31",
          "2024-05-01T23:49:09",
          "2024-05-01T23:52:30",
          "2024-05-01T23:56:38",
          "2024-05-02T00:04:36",
          "2024-05-02T00:08:30",
          "2024-05-02T00:12:33",
          "2024-05-02T00:16:45",
          "2024-05-02T00:24:30",
          "2024-05-02T00:28:35",
          "2024-05-02T00:32:39",
          "2024-05-02T00:36:33",
          "2024-05-02T00:44:31",
          "2024-05-02T00:48:57",
          "2024-05-02T00:52:32",
          "2024-05-02T00:56:33",
          "2024-05-02T01:04:43",
          "2024-05-02T01:08:44",
          "2024-05-02T01:08:44",
          "2024-05-02T01:16:53",
          "2024-05-02T01:24:35",
          "2024-05-02T01:28:34",
          "2024-05-02T01:32:34",
          "2024-05-02T01:36:31",
          "2024-05-02T01:44:32",
          "2024-05-02T01:48:37",
          "2024-05-02T01:52:35",
          "2024-05-02T01:56:34",
          "2024-05-02T02:04:34",
          "2024-05-02T02:08:34",
          "2024-05-02T02:12:34",
          "2024-05-02T02:16:32",
          "2024-05-02T02:24:30",
          "2024-05-02T02:28:33",
          "2024-05-02T02:32:28",
          "2024-05-02T02:36:34",
          "2024-05-02T02:44:28",
          "2024-05-02T02:48:32",
          "2024-05-02T02:52:34",
          "2024-05-02T02:56:33",
          "2024-05-02T03:04:28",
          "2024-05-02T03:08:29",
          "2024-05-02T03:12:34",
          "2024-05-02T03:16:28",
          "2024-05-02T15:12:54",
          "2024-05-02T15:17:37",
          "2024-05-02T15:23:26",
          "2024-05-02T15:29:03",
          "2024-05-02T15:34:46",
          "2024-05-02T15:37:36",
          "2024-05-02T15:42:53",
          "2024-05-02T15:49:27",
          "2024-05-02T15:52:42",
          "2024-05-02T15:57:09",
          "2024-05-02T16:02:44",
          "2024-05-02T16:08:35",
          "2024-05-02T16:11:08",
          "2024-05-02T16:16:01",
          "2024-05-02T16:23:25",
          "2024-05-02T16:26:33",
          "2024-05-02T16:32:48",
          "2024-05-02T16:35:08",
          "2024-05-02T16:41:14",
          "2024-05-02T16:46:33",
          "2024-05-02T16:54:42",
          "2024-05-02T16:59:36",
          "2024-05-02T17:04:32",
          "2024-05-02T17:04:32",
          "2024-05-02T17:11:51",
          "2024-05-02T17:16:06",
          "2024-05-02T17:23:53",
          "2024-05-02T17:27:03",
          "2024-05-02T17:31:07",
          "2024-05-02T17:39:08",
          "2024-05-02T17:43:02",
          "2024-05-02T17:47:15",
          "2024-05-02T17:51:49",
          "2024-05-02T17:56:16",
          "2024-05-02T18:01:53",
          "2024-05-02T18:09:12",
          "2024-05-02T18:09:12",
          "2024-05-02T18:19:40",
          "2024-05-02T18:24:45",
          "2024-05-02T18:29:11",
          "2024-05-02T18:32:33",
          "2024-05-02T18:36:32",
          "2024-05-02T18:36:32",
          "2024-05-02T18:45:17",
          "2024-05-02T18:52:37",
          "2024-05-02T18:59:17",
          "2024-05-02T18:59:17",
          "2024-05-02T19:05:57",
          "2024-05-02T19:10:59",
          "2024-05-02T19:15:16",
          "2024-05-02T19:23:02",
          "2024-05-02T19:26:35",
          "2024-05-02T19:33:29",
          "2024-05-02T19:37:10",
          "2024-05-02T19:37:10",
          "2024-05-02T19:49:35",
          "2024-05-02T19:53:44",
          "2024-05-02T19:53:44",
          "2024-05-02T20:01:36",
          "2024-05-02T20:07:53",
          "2024-05-02T20:14:09",
          "2024-05-02T20:19:25"
         ],
         "xaxis": "x",
         "y": [
          3413,
          3418,
          3415,
          3415,
          3434,
          3435,
          3435,
          3435,
          3435,
          3402,
          3326,
          3326,
          3409,
          3405,
          3403,
          3403,
          3403,
          3403,
          3425,
          3410,
          3421,
          3421,
          3449,
          3445,
          3445,
          3447,
          3420,
          3305,
          3441,
          3441,
          3441,
          3441,
          3441,
          3434,
          3434,
          3434,
          3449,
          3440,
          3440,
          3440,
          3291,
          3430,
          3460,
          3460,
          3455,
          3454,
          3454,
          3454,
          3448,
          3449,
          3449,
          3449,
          3449,
          3439,
          3426,
          3380,
          3379,
          3400,
          3398,
          3398,
          3398,
          3432,
          3435,
          3435,
          3435,
          3435,
          3425,
          3427,
          3425,
          3425,
          3425,
          3425,
          3425,
          3458,
          3458,
          3458,
          3284,
          3284,
          3284,
          3284,
          3443,
          3338,
          3338,
          3338,
          3338,
          3449,
          3449,
          3449,
          3449,
          3449,
          3473,
          3469,
          3470,
          3285,
          3464,
          3464,
          3455,
          3444,
          3444,
          3433,
          3453,
          3455,
          3455,
          3455,
          3456,
          3456,
          3456,
          3456,
          3452,
          3446,
          3446,
          3446,
          3446,
          3344,
          3344,
          3460,
          3460,
          3460,
          3469,
          3448,
          3448,
          3450,
          3466,
          3468,
          3468,
          3468,
          3468,
          3468,
          3466,
          3464,
          3464,
          3433,
          3433,
          3433,
          3433,
          3382,
          3382,
          3381,
          3281,
          3281,
          3281,
          3380,
          3383,
          3278,
          3278,
          3278,
          3278,
          3278,
          3371,
          3385,
          3384,
          3384,
          3384,
          3384,
          3389,
          3388,
          3390,
          3390,
          3468,
          3462,
          3467,
          3468,
          3468,
          3468,
          3468,
          3468,
          3415,
          3415,
          3483,
          3483,
          3483,
          3490,
          3489,
          3489,
          3288,
          3288,
          3483,
          3482,
          3482,
          3479,
          3479,
          3472,
          3468
         ],
         "yaxis": "y"
        },
        {
         "hovertemplate": "variable=buy_price<br>lastUpdate=%{x}<br>value=%{y}<extra></extra>",
         "legendgroup": "buy_price",
         "line": {
          "color": "#EF553B",
          "dash": "solid"
         },
         "marker": {
          "symbol": "circle"
         },
         "mode": "lines",
         "name": "buy_price",
         "orientation": "v",
         "showlegend": true,
         "type": "scatter",
         "x": [
          "2024-05-01T17:17:11",
          "2024-05-01T17:21:50",
          "2024-05-01T17:28:38",
          "2024-05-01T17:28:38",
          "2024-05-01T17:37:04",
          "2024-05-01T17:43:05",
          "2024-05-01T17:47:42",
          "2024-05-01T17:54:01",
          "2024-05-01T17:54:01",
          "2024-05-01T18:00:08",
          "2024-05-01T18:08:15",
          "2024-05-01T18:08:15",
          "2024-05-01T18:16:45",
          "2024-05-01T18:22:46",
          "2024-05-01T18:26:22",
          "2024-05-01T18:32:39",
          "2024-05-01T18:36:52",
          "2024-05-01T18:36:52",
          "2024-05-01T18:44:54",
          "2024-05-01T18:50:55",
          "2024-05-01T18:59:31",
          "2024-05-01T18:59:31",
          "2024-05-01T19:08:43",
          "2024-05-01T19:13:03",
          "2024-05-01T19:13:03",
          "2024-05-01T19:20:24",
          "2024-05-01T19:28:16",
          "2024-05-01T19:30:56",
          "2024-05-01T19:38:18",
          "2024-05-01T19:38:18",
          "2024-05-01T19:45:31",
          "2024-05-01T19:50:34",
          "2024-05-01T19:56:04",
          "2024-05-01T20:01:42",
          "2024-05-01T20:07:42",
          "2024-05-01T20:12:56",
          "2024-05-01T20:15:47",
          "2024-05-01T20:20:13",
          "2024-05-01T20:29:30",
          "2024-05-01T20:34:25",
          "2024-05-01T20:39:11",
          "2024-05-01T20:42:32",
          "2024-05-01T20:49:20",
          "2024-05-01T20:49:20",
          "2024-05-01T20:55:57",
          "2024-05-01T21:01:29",
          "2024-05-01T21:09:23",
          "2024-05-01T21:13:03",
          "2024-05-01T21:18:49",
          "2024-05-01T21:21:36",
          "2024-05-01T21:28:00",
          "2024-05-01T21:30:19",
          "2024-05-01T21:37:02",
          "2024-05-01T21:44:45",
          "2024-05-01T21:48:46",
          "2024-05-01T21:52:46",
          "2024-05-01T21:56:56",
          "2024-05-01T22:01:51",
          "2024-05-01T22:08:53",
          "2024-05-01T22:13:23",
          "2024-05-01T22:18:01",
          "2024-05-01T22:21:26",
          "2024-05-01T22:28:49",
          "2024-05-01T22:32:39",
          "2024-05-01T22:36:35",
          "2024-05-01T22:41:59",
          "2024-05-01T22:49:00",
          "2024-05-01T22:52:54",
          "2024-05-01T22:56:38",
          "2024-05-01T23:00:50",
          "2024-05-01T23:08:47",
          "2024-05-01T23:12:34",
          "2024-05-01T23:17:11",
          "2024-05-01T23:24:35",
          "2024-05-01T23:28:49",
          "2024-05-01T23:32:35",
          "2024-05-01T23:36:34",
          "2024-05-01T23:44:31",
          "2024-05-01T23:49:09",
          "2024-05-01T23:52:30",
          "2024-05-01T23:56:38",
          "2024-05-02T00:04:36",
          "2024-05-02T00:08:30",
          "2024-05-02T00:12:33",
          "2024-05-02T00:16:45",
          "2024-05-02T00:24:30",
          "2024-05-02T00:28:35",
          "2024-05-02T00:32:39",
          "2024-05-02T00:36:33",
          "2024-05-02T00:44:31",
          "2024-05-02T00:48:57",
          "2024-05-02T00:52:32",
          "2024-05-02T00:56:33",
          "2024-05-02T01:04:43",
          "2024-05-02T01:08:44",
          "2024-05-02T01:08:44",
          "2024-05-02T01:16:53",
          "2024-05-02T01:24:35",
          "2024-05-02T01:28:34",
          "2024-05-02T01:32:34",
          "2024-05-02T01:36:31",
          "2024-05-02T01:44:32",
          "2024-05-02T01:48:37",
          "2024-05-02T01:52:35",
          "2024-05-02T01:56:34",
          "2024-05-02T02:04:34",
          "2024-05-02T02:08:34",
          "2024-05-02T02:12:34",
          "2024-05-02T02:16:32",
          "2024-05-02T02:24:30",
          "2024-05-02T02:28:33",
          "2024-05-02T02:32:28",
          "2024-05-02T02:36:34",
          "2024-05-02T02:44:28",
          "2024-05-02T02:48:32",
          "2024-05-02T02:52:34",
          "2024-05-02T02:56:33",
          "2024-05-02T03:04:28",
          "2024-05-02T03:08:29",
          "2024-05-02T03:12:34",
          "2024-05-02T03:16:28",
          "2024-05-02T15:12:54",
          "2024-05-02T15:17:37",
          "2024-05-02T15:23:26",
          "2024-05-02T15:29:03",
          "2024-05-02T15:34:46",
          "2024-05-02T15:37:36",
          "2024-05-02T15:42:53",
          "2024-05-02T15:49:27",
          "2024-05-02T15:52:42",
          "2024-05-02T15:57:09",
          "2024-05-02T16:02:44",
          "2024-05-02T16:08:35",
          "2024-05-02T16:11:08",
          "2024-05-02T16:16:01",
          "2024-05-02T16:23:25",
          "2024-05-02T16:26:33",
          "2024-05-02T16:32:48",
          "2024-05-02T16:35:08",
          "2024-05-02T16:41:14",
          "2024-05-02T16:46:33",
          "2024-05-02T16:54:42",
          "2024-05-02T16:59:36",
          "2024-05-02T17:04:32",
          "2024-05-02T17:04:32",
          "2024-05-02T17:11:51",
          "2024-05-02T17:16:06",
          "2024-05-02T17:23:53",
          "2024-05-02T17:27:03",
          "2024-05-02T17:31:07",
          "2024-05-02T17:39:08",
          "2024-05-02T17:43:02",
          "2024-05-02T17:47:15",
          "2024-05-02T17:51:49",
          "2024-05-02T17:56:16",
          "2024-05-02T18:01:53",
          "2024-05-02T18:09:12",
          "2024-05-02T18:09:12",
          "2024-05-02T18:19:40",
          "2024-05-02T18:24:45",
          "2024-05-02T18:29:11",
          "2024-05-02T18:32:33",
          "2024-05-02T18:36:32",
          "2024-05-02T18:36:32",
          "2024-05-02T18:45:17",
          "2024-05-02T18:52:37",
          "2024-05-02T18:59:17",
          "2024-05-02T18:59:17",
          "2024-05-02T19:05:57",
          "2024-05-02T19:10:59",
          "2024-05-02T19:15:16",
          "2024-05-02T19:23:02",
          "2024-05-02T19:26:35",
          "2024-05-02T19:33:29",
          "2024-05-02T19:37:10",
          "2024-05-02T19:37:10",
          "2024-05-02T19:49:35",
          "2024-05-02T19:53:44",
          "2024-05-02T19:53:44",
          "2024-05-02T20:01:36",
          "2024-05-02T20:07:53",
          "2024-05-02T20:14:09",
          "2024-05-02T20:19:25"
         ],
         "xaxis": "x",
         "y": [
          3290,
          3311,
          3313,
          3313,
          3316,
          3326,
          3326,
          3326,
          3326,
          3340,
          3311,
          3311,
          3288,
          3291,
          3291,
          3291,
          3291,
          3291,
          3294,
          3300,
          3295,
          3295,
          3297,
          3301,
          3301,
          3301,
          3302,
          3300,
          3299,
          3299,
          3299,
          3299,
          3299,
          3301,
          3301,
          3301,
          3448,
          3298,
          3298,
          3298,
          3290,
          3226,
          3256,
          3256,
          3256,
          3256,
          3260,
          3260,
          3258,
          3258,
          3258,
          3258,
          3258,
          3268,
          3270,
          3271,
          3273,
          3271,
          3272,
          3272,
          3272,
          3272,
          3272,
          3272,
          3272,
          3272,
          3280,
          3300,
          3300,
          3300,
          3300,
          3300,
          3300,
          3282,
          3282,
          3282,
          3283,
          3283,
          3283,
          3283,
          3287,
          3287,
          3287,
          3287,
          3287,
          3286,
          3288,
          3288,
          3288,
          3288,
          3295,
          3291,
          3290,
          3284,
          3284,
          3284,
          3285,
          3284,
          3285,
          3286,
          3287,
          3283,
          3283,
          3283,
          3213,
          3213,
          3213,
          3213,
          3216,
          3214,
          3214,
          3214,
          3214,
          3240,
          3241,
          3240,
          3240,
          3240,
          3236,
          3236,
          3236,
          3333,
          3284,
          3285,
          3286,
          3286,
          3286,
          3286,
          3286,
          3286,
          3281,
          3281,
          3281,
          3281,
          3281,
          3279,
          3280,
          3281,
          3280,
          3280,
          3280,
          3280,
          3282,
          3277,
          3277,
          3277,
          3277,
          3277,
          3271,
          3271,
          3271,
          3271,
          3271,
          3271,
          3269,
          3269,
          3268,
          3268,
          3268,
          3268,
          3268,
          3272,
          3272,
          3272,
          3272,
          3272,
          3269,
          3269,
          3287,
          3287,
          3287,
          3322,
          3289,
          3289,
          3287,
          3287,
          3269,
          3268,
          3268,
          3269,
          3272,
          3278,
          3279
         ],
         "yaxis": "y"
        }
       ],
       "layout": {
        "legend": {
         "title": {
          "text": "variable"
         },
         "tracegroupgap": 0
        },
        "template": {
         "data": {
          "bar": [
           {
            "error_x": {
             "color": "#2a3f5f"
            },
            "error_y": {
             "color": "#2a3f5f"
            },
            "marker": {
             "line": {
              "color": "#E5ECF6",
              "width": 0.5
             },
             "pattern": {
              "fillmode": "overlay",
              "size": 10,
              "solidity": 0.2
             }
            },
            "type": "bar"
           }
          ],
          "barpolar": [
           {
            "marker": {
             "line": {
              "color": "#E5ECF6",
              "width": 0.5
             },
             "pattern": {
              "fillmode": "overlay",
              "size": 10,
              "solidity": 0.2
             }
            },
            "type": "barpolar"
           }
          ],
          "carpet": [
           {
            "aaxis": {
             "endlinecolor": "#2a3f5f",
             "gridcolor": "white",
             "linecolor": "white",
             "minorgridcolor": "white",
             "startlinecolor": "#2a3f5f"
            },
            "baxis": {
             "endlinecolor": "#2a3f5f",
             "gridcolor": "white",
             "linecolor": "white",
             "minorgridcolor": "white",
             "startlinecolor": "#2a3f5f"
            },
            "type": "carpet"
           }
          ],
          "choropleth": [
           {
            "colorbar": {
             "outlinewidth": 0,
             "ticks": ""
            },
            "type": "choropleth"
           }
          ],
          "contour": [
           {
            "colorbar": {
             "outlinewidth": 0,
             "ticks": ""
            },
            "colorscale": [
             [
              0,
              "#0d0887"
             ],
             [
              0.1111111111111111,
              "#46039f"
             ],
             [
              0.2222222222222222,
              "#7201a8"
             ],
             [
              0.3333333333333333,
              "#9c179e"
             ],
             [
              0.4444444444444444,
              "#bd3786"
             ],
             [
              0.5555555555555556,
              "#d8576b"
             ],
             [
              0.6666666666666666,
              "#ed7953"
             ],
             [
              0.7777777777777778,
              "#fb9f3a"
             ],
             [
              0.8888888888888888,
              "#fdca26"
             ],
             [
              1,
              "#f0f921"
             ]
            ],
            "type": "contour"
           }
          ],
          "contourcarpet": [
           {
            "colorbar": {
             "outlinewidth": 0,
             "ticks": ""
            },
            "type": "contourcarpet"
           }
          ],
          "heatmap": [
           {
            "colorbar": {
             "outlinewidth": 0,
             "ticks": ""
            },
            "colorscale": [
             [
              0,
              "#0d0887"
             ],
             [
              0.1111111111111111,
              "#46039f"
             ],
             [
              0.2222222222222222,
              "#7201a8"
             ],
             [
              0.3333333333333333,
              "#9c179e"
             ],
             [
              0.4444444444444444,
              "#bd3786"
             ],
             [
              0.5555555555555556,
              "#d8576b"
             ],
             [
              0.6666666666666666,
              "#ed7953"
             ],
             [
              0.7777777777777778,
              "#fb9f3a"
             ],
             [
              0.8888888888888888,
              "#fdca26"
             ],
             [
              1,
              "#f0f921"
             ]
            ],
            "type": "heatmap"
           }
          ],
          "heatmapgl": [
           {
            "colorbar": {
             "outlinewidth": 0,
             "ticks": ""
            },
            "colorscale": [
             [
              0,
              "#0d0887"
             ],
             [
              0.1111111111111111,
              "#46039f"
             ],
             [
              0.2222222222222222,
              "#7201a8"
             ],
             [
              0.3333333333333333,
              "#9c179e"
             ],
             [
              0.4444444444444444,
              "#bd3786"
             ],
             [
              0.5555555555555556,
              "#d8576b"
             ],
             [
              0.6666666666666666,
              "#ed7953"
             ],
             [
              0.7777777777777778,
              "#fb9f3a"
             ],
             [
              0.8888888888888888,
              "#fdca26"
             ],
             [
              1,
              "#f0f921"
             ]
            ],
            "type": "heatmapgl"
           }
          ],
          "histogram": [
           {
            "marker": {
             "pattern": {
              "fillmode": "overlay",
              "size": 10,
              "solidity": 0.2
             }
            },
            "type": "histogram"
           }
          ],
          "histogram2d": [
           {
            "colorbar": {
             "outlinewidth": 0,
             "ticks": ""
            },
            "colorscale": [
             [
              0,
              "#0d0887"
             ],
             [
              0.1111111111111111,
              "#46039f"
             ],
             [
              0.2222222222222222,
              "#7201a8"
             ],
             [
              0.3333333333333333,
              "#9c179e"
             ],
             [
              0.4444444444444444,
              "#bd3786"
             ],
             [
              0.5555555555555556,
              "#d8576b"
             ],
             [
              0.6666666666666666,
              "#ed7953"
             ],
             [
              0.7777777777777778,
              "#fb9f3a"
             ],
             [
              0.8888888888888888,
              "#fdca26"
             ],
             [
              1,
              "#f0f921"
             ]
            ],
            "type": "histogram2d"
           }
          ],
          "histogram2dcontour": [
           {
            "colorbar": {
             "outlinewidth": 0,
             "ticks": ""
            },
            "colorscale": [
             [
              0,
              "#0d0887"
             ],
             [
              0.1111111111111111,
              "#46039f"
             ],
             [
              0.2222222222222222,
              "#7201a8"
             ],
             [
              0.3333333333333333,
              "#9c179e"
             ],
             [
              0.4444444444444444,
              "#bd3786"
             ],
             [
              0.5555555555555556,
              "#d8576b"
             ],
             [
              0.6666666666666666,
              "#ed7953"
             ],
             [
              0.7777777777777778,
              "#fb9f3a"
             ],
             [
              0.8888888888888888,
              "#fdca26"
             ],
             [
              1,
              "#f0f921"
             ]
            ],
            "type": "histogram2dcontour"
           }
          ],
          "mesh3d": [
           {
            "colorbar": {
             "outlinewidth": 0,
             "ticks": ""
            },
            "type": "mesh3d"
           }
          ],
          "parcoords": [
           {
            "line": {
             "colorbar": {
              "outlinewidth": 0,
              "ticks": ""
             }
            },
            "type": "parcoords"
           }
          ],
          "pie": [
           {
            "automargin": true,
            "type": "pie"
           }
          ],
          "scatter": [
           {
            "fillpattern": {
             "fillmode": "overlay",
             "size": 10,
             "solidity": 0.2
            },
            "type": "scatter"
           }
          ],
          "scatter3d": [
           {
            "line": {
             "colorbar": {
              "outlinewidth": 0,
              "ticks": ""
             }
            },
            "marker": {
             "colorbar": {
              "outlinewidth": 0,
              "ticks": ""
             }
            },
            "type": "scatter3d"
           }
          ],
          "scattercarpet": [
           {
            "marker": {
             "colorbar": {
              "outlinewidth": 0,
              "ticks": ""
             }
            },
            "type": "scattercarpet"
           }
          ],
          "scattergeo": [
           {
            "marker": {
             "colorbar": {
              "outlinewidth": 0,
              "ticks": ""
             }
            },
            "type": "scattergeo"
           }
          ],
          "scattergl": [
           {
            "marker": {
             "colorbar": {
              "outlinewidth": 0,
              "ticks": ""
             }
            },
            "type": "scattergl"
           }
          ],
          "scattermapbox": [
           {
            "marker": {
             "colorbar": {
              "outlinewidth": 0,
              "ticks": ""
             }
            },
            "type": "scattermapbox"
           }
          ],
          "scatterpolar": [
           {
            "marker": {
             "colorbar": {
              "outlinewidth": 0,
              "ticks": ""
             }
            },
            "type": "scatterpolar"
           }
          ],
          "scatterpolargl": [
           {
            "marker": {
             "colorbar": {
              "outlinewidth": 0,
              "ticks": ""
             }
            },
            "type": "scatterpolargl"
           }
          ],
          "scatterternary": [
           {
            "marker": {
             "colorbar": {
              "outlinewidth": 0,
              "ticks": ""
             }
            },
            "type": "scatterternary"
           }
          ],
          "surface": [
           {
            "colorbar": {
             "outlinewidth": 0,
             "ticks": ""
            },
            "colorscale": [
             [
              0,
              "#0d0887"
             ],
             [
              0.1111111111111111,
              "#46039f"
             ],
             [
              0.2222222222222222,
              "#7201a8"
             ],
             [
              0.3333333333333333,
              "#9c179e"
             ],
             [
              0.4444444444444444,
              "#bd3786"
             ],
             [
              0.5555555555555556,
              "#d8576b"
             ],
             [
              0.6666666666666666,
              "#ed7953"
             ],
             [
              0.7777777777777778,
              "#fb9f3a"
             ],
             [
              0.8888888888888888,
              "#fdca26"
             ],
             [
              1,
              "#f0f921"
             ]
            ],
            "type": "surface"
           }
          ],
          "table": [
           {
            "cells": {
             "fill": {
              "color": "#EBF0F8"
             },
             "line": {
              "color": "white"
             }
            },
            "header": {
             "fill": {
              "color": "#C8D4E3"
             },
             "line": {
              "color": "white"
             }
            },
            "type": "table"
           }
          ]
         },
         "layout": {
          "annotationdefaults": {
           "arrowcolor": "#2a3f5f",
           "arrowhead": 0,
           "arrowwidth": 1
          },
          "autotypenumbers": "strict",
          "coloraxis": {
           "colorbar": {
            "outlinewidth": 0,
            "ticks": ""
           }
          },
          "colorscale": {
           "diverging": [
            [
             0,
             "#8e0152"
            ],
            [
             0.1,
             "#c51b7d"
            ],
            [
             0.2,
             "#de77ae"
            ],
            [
             0.3,
             "#f1b6da"
            ],
            [
             0.4,
             "#fde0ef"
            ],
            [
             0.5,
             "#f7f7f7"
            ],
            [
             0.6,
             "#e6f5d0"
            ],
            [
             0.7,
             "#b8e186"
            ],
            [
             0.8,
             "#7fbc41"
            ],
            [
             0.9,
             "#4d9221"
            ],
            [
             1,
             "#276419"
            ]
           ],
           "sequential": [
            [
             0,
             "#0d0887"
            ],
            [
             0.1111111111111111,
             "#46039f"
            ],
            [
             0.2222222222222222,
             "#7201a8"
            ],
            [
             0.3333333333333333,
             "#9c179e"
            ],
            [
             0.4444444444444444,
             "#bd3786"
            ],
            [
             0.5555555555555556,
             "#d8576b"
            ],
            [
             0.6666666666666666,
             "#ed7953"
            ],
            [
             0.7777777777777778,
             "#fb9f3a"
            ],
            [
             0.8888888888888888,
             "#fdca26"
            ],
            [
             1,
             "#f0f921"
            ]
           ],
           "sequentialminus": [
            [
             0,
             "#0d0887"
            ],
            [
             0.1111111111111111,
             "#46039f"
            ],
            [
             0.2222222222222222,
             "#7201a8"
            ],
            [
             0.3333333333333333,
             "#9c179e"
            ],
            [
             0.4444444444444444,
             "#bd3786"
            ],
            [
             0.5555555555555556,
             "#d8576b"
            ],
            [
             0.6666666666666666,
             "#ed7953"
            ],
            [
             0.7777777777777778,
             "#fb9f3a"
            ],
            [
             0.8888888888888888,
             "#fdca26"
            ],
            [
             1,
             "#f0f921"
            ]
           ]
          },
          "colorway": [
           "#636efa",
           "#EF553B",
           "#00cc96",
           "#ab63fa",
           "#FFA15A",
           "#19d3f3",
           "#FF6692",
           "#B6E880",
           "#FF97FF",
           "#FECB52"
          ],
          "font": {
           "color": "#2a3f5f"
          },
          "geo": {
           "bgcolor": "white",
           "lakecolor": "white",
           "landcolor": "#E5ECF6",
           "showlakes": true,
           "showland": true,
           "subunitcolor": "white"
          },
          "hoverlabel": {
           "align": "left"
          },
          "hovermode": "closest",
          "mapbox": {
           "style": "light"
          },
          "paper_bgcolor": "white",
          "plot_bgcolor": "#E5ECF6",
          "polar": {
           "angularaxis": {
            "gridcolor": "white",
            "linecolor": "white",
            "ticks": ""
           },
           "bgcolor": "#E5ECF6",
           "radialaxis": {
            "gridcolor": "white",
            "linecolor": "white",
            "ticks": ""
           }
          },
          "scene": {
           "xaxis": {
            "backgroundcolor": "#E5ECF6",
            "gridcolor": "white",
            "gridwidth": 2,
            "linecolor": "white",
            "showbackground": true,
            "ticks": "",
            "zerolinecolor": "white"
           },
           "yaxis": {
            "backgroundcolor": "#E5ECF6",
            "gridcolor": "white",
            "gridwidth": 2,
            "linecolor": "white",
            "showbackground": true,
            "ticks": "",
            "zerolinecolor": "white"
           },
           "zaxis": {
            "backgroundcolor": "#E5ECF6",
            "gridcolor": "white",
            "gridwidth": 2,
            "linecolor": "white",
            "showbackground": true,
            "ticks": "",
            "zerolinecolor": "white"
           }
          },
          "shapedefaults": {
           "line": {
            "color": "#2a3f5f"
           }
          },
          "ternary": {
           "aaxis": {
            "gridcolor": "white",
            "linecolor": "white",
            "ticks": ""
           },
           "baxis": {
            "gridcolor": "white",
            "linecolor": "white",
            "ticks": ""
           },
           "bgcolor": "#E5ECF6",
           "caxis": {
            "gridcolor": "white",
            "linecolor": "white",
            "ticks": ""
           }
          },
          "title": {
           "x": 0.05
          },
          "xaxis": {
           "automargin": true,
           "gridcolor": "white",
           "linecolor": "white",
           "ticks": "",
           "title": {
            "standoff": 15
           },
           "zerolinecolor": "white",
           "zerolinewidth": 2
          },
          "yaxis": {
           "automargin": true,
           "gridcolor": "white",
           "linecolor": "white",
           "ticks": "",
           "title": {
            "standoff": 15
           },
           "zerolinecolor": "white",
           "zerolinewidth": 2
          }
         }
        },
        "title": {
         "text": "Sell Price and Buy Price over Time for ID=19721"
        },
        "xaxis": {
         "anchor": "y",
         "domain": [
          0,
          1
         ],
         "title": {
          "text": "lastUpdate"
         },
         "type": "date"
        },
        "yaxis": {
         "anchor": "x",
         "domain": [
          0,
          1
         ],
         "title": {
          "text": "value"
         }
        }
       }
      }
     },
     "metadata": {},
     "output_type": "display_data"
    }
   ],
   "source": [
    "import pandas as pd\n",
    "import plotly.express as px\n",
    "\n",
    "# Load data from master CSV file into a DataFrame\n",
    "df = pd.read_csv(\"master_data_v2.csv\")\n",
    "\n",
    "# Convert 'lastUpdate' column to datetime\n",
    "df['lastUpdate'] = pd.to_datetime(df['lastUpdate'])\n",
    "\n",
    "# Filter data for ID=19721\n",
    "filtered_df = df[df['id'] == 19721]\n",
    "\n",
    "# Line chart\n",
    "fig = px.line(filtered_df, x='lastUpdate', y=['sell_price', 'buy_price'], title='Sell Price and Buy Price over Time for ID=19721')\n",
    "fig.update_xaxes(type='date')\n",
    "fig.show()"
   ]
  },
  {
   "cell_type": "code",
   "execution_count": 50,
   "metadata": {},
   "outputs": [
    {
     "data": {
      "application/vnd.plotly.v1+json": {
       "config": {
        "plotlyServerURL": "https://plot.ly"
       },
       "data": [
        {
         "hovertemplate": "variable=sell_price<br>loadDateTime=%{x}<br>value=%{y}<extra></extra>",
         "legendgroup": "sell_price",
         "line": {
          "color": "#636efa",
          "dash": "solid"
         },
         "marker": {
          "symbol": "circle"
         },
         "mode": "lines",
         "name": "sell_price",
         "orientation": "v",
         "showlegend": true,
         "type": "scatter",
         "x": [
          "2024-05-01 10:20:16",
          null,
          "2024-05-01 10:30:07",
          "2024-05-01 10:35:06",
          "2024-05-01 10:40:08",
          "2024-05-01 10:45:06",
          "2024-05-01 10:50:08",
          "2024-05-01 10:55:08",
          "2024-05-01 11:00:08",
          "2024-05-01 11:05:10",
          "2024-05-01 11:10:09",
          "2024-05-01 11:15:08",
          "2024-05-01 11:20:08",
          "2024-05-01 11:25:08",
          "2024-05-01 11:30:07",
          "2024-05-01 11:35:23",
          "2024-05-01 11:40:09",
          "2024-05-01 11:45:07",
          "2024-05-01 11:50:10",
          "2024-05-01 11:55:07",
          "2024-05-01 12:00:07",
          "2024-05-01 12:05:08",
          "2024-05-01 12:10:09",
          "2024-05-01 12:15:08",
          "2024-05-01 12:20:08",
          "2024-05-01 12:25:09",
          "2024-05-01 12:30:08",
          "2024-05-01 12:35:09",
          "2024-05-01 12:40:09",
          "2024-05-01 12:45:08",
          "2024-05-01 12:50:08",
          "2024-05-01 12:55:08",
          "2024-05-01 13:00:08",
          "2024-05-01 13:05:07",
          "2024-05-01 13:10:08",
          "2024-05-01 13:15:10",
          "2024-05-01 13:20:06",
          "2024-05-01 13:25:07",
          "2024-05-01 13:30:06",
          "2024-05-01 13:35:07",
          "2024-05-01 13:40:08",
          "2024-05-01 13:45:07",
          "2024-05-01 13:50:07",
          "2024-05-01 13:55:07",
          "2024-05-01 14:00:07",
          "2024-05-01 14:05:07",
          "2024-05-01 14:10:08",
          "2024-05-01 14:15:07",
          "2024-05-01 14:20:07",
          "2024-05-01 14:25:06",
          "2024-05-01 14:30:08",
          "2024-05-01 14:35:27",
          "2024-05-01 14:40:07",
          "2024-05-01 14:45:07",
          "2024-05-01 14:50:08",
          "2024-05-01 14:55:07",
          "2024-05-01 15:00:07",
          "2024-05-01 15:05:08",
          "2024-05-01 15:10:06",
          "2024-05-01 15:15:08",
          "2024-05-01 15:20:09",
          "2024-05-01 15:25:06",
          "2024-05-01 15:30:07",
          "2024-05-01 15:35:08",
          "2024-05-01 15:40:06",
          "2024-05-01 15:45:07",
          "2024-05-01 15:50:08",
          "2024-05-01 15:55:07",
          "2024-05-01 16:00:07",
          "2024-05-01 16:05:06",
          "2024-05-01 16:10:09",
          "2024-05-01 16:15:07",
          "2024-05-01 16:20:07",
          "2024-05-01 16:25:06",
          "2024-05-01 16:30:06",
          "2024-05-01 16:35:11",
          "2024-05-01 16:40:06",
          "2024-05-01 16:45:07",
          "2024-05-01 16:50:08",
          "2024-05-01 16:55:07",
          "2024-05-01 17:00:07",
          "2024-05-01 17:05:06",
          "2024-05-01 17:10:06",
          "2024-05-01 17:15:08",
          "2024-05-01 17:20:07",
          "2024-05-01 17:25:07",
          "2024-05-01 17:30:06",
          "2024-05-01 17:35:08",
          "2024-05-01 17:40:08",
          "2024-05-01 17:45:07",
          "2024-05-01 17:50:07",
          "2024-05-01 17:55:08",
          "2024-05-01 18:00:06",
          "2024-05-01 18:05:06",
          "2024-05-01 18:10:09",
          "2024-05-01 18:15:07",
          "2024-05-01 18:20:06",
          "2024-05-01 18:25:08",
          "2024-05-01 18:30:06",
          "2024-05-01 18:35:07",
          "2024-05-01 18:40:07",
          "2024-05-01 18:45:07",
          "2024-05-01 18:50:07",
          "2024-05-01 18:55:07",
          "2024-05-01 19:00:08",
          "2024-05-01 19:05:09",
          "2024-05-01 19:10:07",
          "2024-05-01 19:15:07",
          "2024-05-01 19:20:07",
          "2024-05-01 19:25:07",
          "2024-05-01 19:30:09",
          "2024-05-01 19:35:07",
          "2024-05-01 19:40:06",
          "2024-05-01 19:45:08",
          "2024-05-01 19:50:08",
          "2024-05-01 19:55:07",
          "2024-05-01 20:00:07",
          "2024-05-01 20:05:07",
          "2024-05-01 20:10:07",
          "2024-05-01 20:15:06",
          "2024-05-01 20:20:08",
          "2024-05-02 08:14:10",
          "2024-05-02 08:20:10",
          "2024-05-02 08:25:08",
          "2024-05-02 08:30:07",
          "2024-05-02 08:35:07",
          "2024-05-02 08:40:07",
          "2024-05-02 08:45:06",
          "2024-05-02 08:50:07",
          "2024-05-02 08:55:08",
          "2024-05-02 09:00:06",
          "2024-05-02 09:05:07",
          "2024-05-02 09:10:07",
          "2024-05-02 09:15:06",
          "2024-05-02 09:20:06",
          "2024-05-02 09:25:07",
          "2024-05-02 09:30:07",
          "2024-05-02 09:35:06",
          "2024-05-02 09:40:06",
          "2024-05-02 09:45:08",
          "2024-05-02 09:50:06",
          "2024-05-02 09:55:06",
          "2024-05-02 10:00:07",
          "2024-05-02 10:05:06",
          "2024-05-02 10:10:07",
          "2024-05-02 10:15:07",
          "2024-05-02 10:20:07",
          "2024-05-02 10:25:06",
          "2024-05-02 10:30:07",
          "2024-05-02 10:35:07",
          "2024-05-02 10:40:06",
          "2024-05-02 10:45:07",
          "2024-05-02 10:50:08",
          "2024-05-02 10:55:07",
          "2024-05-02 11:00:18",
          "2024-05-02 11:05:07",
          "2024-05-02 11:10:06",
          "2024-05-02 11:15:07",
          "2024-05-02 11:20:07",
          "2024-05-02 11:25:07",
          "2024-05-02 11:30:06",
          "2024-05-02 11:35:07",
          "2024-05-02 11:40:07",
          "2024-05-02 11:45:08",
          "2024-05-02 11:50:08",
          "2024-05-02 11:55:07",
          "2024-05-02 12:00:07",
          "2024-05-02 12:05:15",
          "2024-05-02 12:10:06",
          "2024-05-02 12:15:08",
          "2024-05-02 12:20:07",
          "2024-05-02 12:25:08",
          "2024-05-02 12:30:07",
          "2024-05-02 12:35:07",
          "2024-05-02 12:40:07",
          "2024-05-02 12:45:07",
          "2024-05-02 12:50:08",
          "2024-05-02 12:55:06",
          "2024-05-02 13:00:07",
          "2024-05-02 13:05:06",
          "2024-05-02 13:10:06",
          "2024-05-02 13:15:07",
          "2024-05-02 13:20:06"
         ],
         "xaxis": "x",
         "y": [
          3413,
          3418,
          3415,
          3415,
          3434,
          3435,
          3435,
          3435,
          3435,
          3402,
          3326,
          3326,
          3409,
          3405,
          3403,
          3403,
          3403,
          3403,
          3425,
          3410,
          3421,
          3421,
          3449,
          3445,
          3445,
          3447,
          3420,
          3305,
          3441,
          3441,
          3441,
          3441,
          3441,
          3434,
          3434,
          3434,
          3449,
          3440,
          3440,
          3440,
          3291,
          3430,
          3460,
          3460,
          3455,
          3454,
          3454,
          3454,
          3448,
          3449,
          3449,
          3449,
          3449,
          3439,
          3426,
          3380,
          3379,
          3400,
          3398,
          3398,
          3398,
          3432,
          3435,
          3435,
          3435,
          3435,
          3425,
          3427,
          3425,
          3425,
          3425,
          3425,
          3425,
          3458,
          3458,
          3458,
          3284,
          3284,
          3284,
          3284,
          3443,
          3338,
          3338,
          3338,
          3338,
          3449,
          3449,
          3449,
          3449,
          3449,
          3473,
          3469,
          3470,
          3285,
          3464,
          3464,
          3455,
          3444,
          3444,
          3433,
          3453,
          3455,
          3455,
          3455,
          3456,
          3456,
          3456,
          3456,
          3452,
          3446,
          3446,
          3446,
          3446,
          3344,
          3344,
          3460,
          3460,
          3460,
          3469,
          3448,
          3448,
          3450,
          3466,
          3468,
          3468,
          3468,
          3468,
          3468,
          3466,
          3464,
          3464,
          3433,
          3433,
          3433,
          3433,
          3382,
          3382,
          3381,
          3281,
          3281,
          3281,
          3380,
          3383,
          3278,
          3278,
          3278,
          3278,
          3278,
          3371,
          3385,
          3384,
          3384,
          3384,
          3384,
          3389,
          3388,
          3390,
          3390,
          3468,
          3462,
          3467,
          3468,
          3468,
          3468,
          3468,
          3468,
          3415,
          3415,
          3483,
          3483,
          3483,
          3490,
          3489,
          3489,
          3288,
          3288,
          3483,
          3482,
          3482,
          3479,
          3479,
          3472,
          3468
         ],
         "yaxis": "y"
        },
        {
         "hovertemplate": "variable=buy_price<br>loadDateTime=%{x}<br>value=%{y}<extra></extra>",
         "legendgroup": "buy_price",
         "line": {
          "color": "#EF553B",
          "dash": "solid"
         },
         "marker": {
          "symbol": "circle"
         },
         "mode": "lines",
         "name": "buy_price",
         "orientation": "v",
         "showlegend": true,
         "type": "scatter",
         "x": [
          "2024-05-01 10:20:16",
          null,
          "2024-05-01 10:30:07",
          "2024-05-01 10:35:06",
          "2024-05-01 10:40:08",
          "2024-05-01 10:45:06",
          "2024-05-01 10:50:08",
          "2024-05-01 10:55:08",
          "2024-05-01 11:00:08",
          "2024-05-01 11:05:10",
          "2024-05-01 11:10:09",
          "2024-05-01 11:15:08",
          "2024-05-01 11:20:08",
          "2024-05-01 11:25:08",
          "2024-05-01 11:30:07",
          "2024-05-01 11:35:23",
          "2024-05-01 11:40:09",
          "2024-05-01 11:45:07",
          "2024-05-01 11:50:10",
          "2024-05-01 11:55:07",
          "2024-05-01 12:00:07",
          "2024-05-01 12:05:08",
          "2024-05-01 12:10:09",
          "2024-05-01 12:15:08",
          "2024-05-01 12:20:08",
          "2024-05-01 12:25:09",
          "2024-05-01 12:30:08",
          "2024-05-01 12:35:09",
          "2024-05-01 12:40:09",
          "2024-05-01 12:45:08",
          "2024-05-01 12:50:08",
          "2024-05-01 12:55:08",
          "2024-05-01 13:00:08",
          "2024-05-01 13:05:07",
          "2024-05-01 13:10:08",
          "2024-05-01 13:15:10",
          "2024-05-01 13:20:06",
          "2024-05-01 13:25:07",
          "2024-05-01 13:30:06",
          "2024-05-01 13:35:07",
          "2024-05-01 13:40:08",
          "2024-05-01 13:45:07",
          "2024-05-01 13:50:07",
          "2024-05-01 13:55:07",
          "2024-05-01 14:00:07",
          "2024-05-01 14:05:07",
          "2024-05-01 14:10:08",
          "2024-05-01 14:15:07",
          "2024-05-01 14:20:07",
          "2024-05-01 14:25:06",
          "2024-05-01 14:30:08",
          "2024-05-01 14:35:27",
          "2024-05-01 14:40:07",
          "2024-05-01 14:45:07",
          "2024-05-01 14:50:08",
          "2024-05-01 14:55:07",
          "2024-05-01 15:00:07",
          "2024-05-01 15:05:08",
          "2024-05-01 15:10:06",
          "2024-05-01 15:15:08",
          "2024-05-01 15:20:09",
          "2024-05-01 15:25:06",
          "2024-05-01 15:30:07",
          "2024-05-01 15:35:08",
          "2024-05-01 15:40:06",
          "2024-05-01 15:45:07",
          "2024-05-01 15:50:08",
          "2024-05-01 15:55:07",
          "2024-05-01 16:00:07",
          "2024-05-01 16:05:06",
          "2024-05-01 16:10:09",
          "2024-05-01 16:15:07",
          "2024-05-01 16:20:07",
          "2024-05-01 16:25:06",
          "2024-05-01 16:30:06",
          "2024-05-01 16:35:11",
          "2024-05-01 16:40:06",
          "2024-05-01 16:45:07",
          "2024-05-01 16:50:08",
          "2024-05-01 16:55:07",
          "2024-05-01 17:00:07",
          "2024-05-01 17:05:06",
          "2024-05-01 17:10:06",
          "2024-05-01 17:15:08",
          "2024-05-01 17:20:07",
          "2024-05-01 17:25:07",
          "2024-05-01 17:30:06",
          "2024-05-01 17:35:08",
          "2024-05-01 17:40:08",
          "2024-05-01 17:45:07",
          "2024-05-01 17:50:07",
          "2024-05-01 17:55:08",
          "2024-05-01 18:00:06",
          "2024-05-01 18:05:06",
          "2024-05-01 18:10:09",
          "2024-05-01 18:15:07",
          "2024-05-01 18:20:06",
          "2024-05-01 18:25:08",
          "2024-05-01 18:30:06",
          "2024-05-01 18:35:07",
          "2024-05-01 18:40:07",
          "2024-05-01 18:45:07",
          "2024-05-01 18:50:07",
          "2024-05-01 18:55:07",
          "2024-05-01 19:00:08",
          "2024-05-01 19:05:09",
          "2024-05-01 19:10:07",
          "2024-05-01 19:15:07",
          "2024-05-01 19:20:07",
          "2024-05-01 19:25:07",
          "2024-05-01 19:30:09",
          "2024-05-01 19:35:07",
          "2024-05-01 19:40:06",
          "2024-05-01 19:45:08",
          "2024-05-01 19:50:08",
          "2024-05-01 19:55:07",
          "2024-05-01 20:00:07",
          "2024-05-01 20:05:07",
          "2024-05-01 20:10:07",
          "2024-05-01 20:15:06",
          "2024-05-01 20:20:08",
          "2024-05-02 08:14:10",
          "2024-05-02 08:20:10",
          "2024-05-02 08:25:08",
          "2024-05-02 08:30:07",
          "2024-05-02 08:35:07",
          "2024-05-02 08:40:07",
          "2024-05-02 08:45:06",
          "2024-05-02 08:50:07",
          "2024-05-02 08:55:08",
          "2024-05-02 09:00:06",
          "2024-05-02 09:05:07",
          "2024-05-02 09:10:07",
          "2024-05-02 09:15:06",
          "2024-05-02 09:20:06",
          "2024-05-02 09:25:07",
          "2024-05-02 09:30:07",
          "2024-05-02 09:35:06",
          "2024-05-02 09:40:06",
          "2024-05-02 09:45:08",
          "2024-05-02 09:50:06",
          "2024-05-02 09:55:06",
          "2024-05-02 10:00:07",
          "2024-05-02 10:05:06",
          "2024-05-02 10:10:07",
          "2024-05-02 10:15:07",
          "2024-05-02 10:20:07",
          "2024-05-02 10:25:06",
          "2024-05-02 10:30:07",
          "2024-05-02 10:35:07",
          "2024-05-02 10:40:06",
          "2024-05-02 10:45:07",
          "2024-05-02 10:50:08",
          "2024-05-02 10:55:07",
          "2024-05-02 11:00:18",
          "2024-05-02 11:05:07",
          "2024-05-02 11:10:06",
          "2024-05-02 11:15:07",
          "2024-05-02 11:20:07",
          "2024-05-02 11:25:07",
          "2024-05-02 11:30:06",
          "2024-05-02 11:35:07",
          "2024-05-02 11:40:07",
          "2024-05-02 11:45:08",
          "2024-05-02 11:50:08",
          "2024-05-02 11:55:07",
          "2024-05-02 12:00:07",
          "2024-05-02 12:05:15",
          "2024-05-02 12:10:06",
          "2024-05-02 12:15:08",
          "2024-05-02 12:20:07",
          "2024-05-02 12:25:08",
          "2024-05-02 12:30:07",
          "2024-05-02 12:35:07",
          "2024-05-02 12:40:07",
          "2024-05-02 12:45:07",
          "2024-05-02 12:50:08",
          "2024-05-02 12:55:06",
          "2024-05-02 13:00:07",
          "2024-05-02 13:05:06",
          "2024-05-02 13:10:06",
          "2024-05-02 13:15:07",
          "2024-05-02 13:20:06"
         ],
         "xaxis": "x",
         "y": [
          3290,
          3311,
          3313,
          3313,
          3316,
          3326,
          3326,
          3326,
          3326,
          3340,
          3311,
          3311,
          3288,
          3291,
          3291,
          3291,
          3291,
          3291,
          3294,
          3300,
          3295,
          3295,
          3297,
          3301,
          3301,
          3301,
          3302,
          3300,
          3299,
          3299,
          3299,
          3299,
          3299,
          3301,
          3301,
          3301,
          3448,
          3298,
          3298,
          3298,
          3290,
          3226,
          3256,
          3256,
          3256,
          3256,
          3260,
          3260,
          3258,
          3258,
          3258,
          3258,
          3258,
          3268,
          3270,
          3271,
          3273,
          3271,
          3272,
          3272,
          3272,
          3272,
          3272,
          3272,
          3272,
          3272,
          3280,
          3300,
          3300,
          3300,
          3300,
          3300,
          3300,
          3282,
          3282,
          3282,
          3283,
          3283,
          3283,
          3283,
          3287,
          3287,
          3287,
          3287,
          3287,
          3286,
          3288,
          3288,
          3288,
          3288,
          3295,
          3291,
          3290,
          3284,
          3284,
          3284,
          3285,
          3284,
          3285,
          3286,
          3287,
          3283,
          3283,
          3283,
          3213,
          3213,
          3213,
          3213,
          3216,
          3214,
          3214,
          3214,
          3214,
          3240,
          3241,
          3240,
          3240,
          3240,
          3236,
          3236,
          3236,
          3333,
          3284,
          3285,
          3286,
          3286,
          3286,
          3286,
          3286,
          3286,
          3281,
          3281,
          3281,
          3281,
          3281,
          3279,
          3280,
          3281,
          3280,
          3280,
          3280,
          3280,
          3282,
          3277,
          3277,
          3277,
          3277,
          3277,
          3271,
          3271,
          3271,
          3271,
          3271,
          3271,
          3269,
          3269,
          3268,
          3268,
          3268,
          3268,
          3268,
          3272,
          3272,
          3272,
          3272,
          3272,
          3269,
          3269,
          3287,
          3287,
          3287,
          3322,
          3289,
          3289,
          3287,
          3287,
          3269,
          3268,
          3268,
          3269,
          3272,
          3278,
          3279
         ],
         "yaxis": "y"
        }
       ],
       "layout": {
        "legend": {
         "title": {
          "text": "variable"
         },
         "tracegroupgap": 0
        },
        "template": {
         "data": {
          "bar": [
           {
            "error_x": {
             "color": "#2a3f5f"
            },
            "error_y": {
             "color": "#2a3f5f"
            },
            "marker": {
             "line": {
              "color": "#E5ECF6",
              "width": 0.5
             },
             "pattern": {
              "fillmode": "overlay",
              "size": 10,
              "solidity": 0.2
             }
            },
            "type": "bar"
           }
          ],
          "barpolar": [
           {
            "marker": {
             "line": {
              "color": "#E5ECF6",
              "width": 0.5
             },
             "pattern": {
              "fillmode": "overlay",
              "size": 10,
              "solidity": 0.2
             }
            },
            "type": "barpolar"
           }
          ],
          "carpet": [
           {
            "aaxis": {
             "endlinecolor": "#2a3f5f",
             "gridcolor": "white",
             "linecolor": "white",
             "minorgridcolor": "white",
             "startlinecolor": "#2a3f5f"
            },
            "baxis": {
             "endlinecolor": "#2a3f5f",
             "gridcolor": "white",
             "linecolor": "white",
             "minorgridcolor": "white",
             "startlinecolor": "#2a3f5f"
            },
            "type": "carpet"
           }
          ],
          "choropleth": [
           {
            "colorbar": {
             "outlinewidth": 0,
             "ticks": ""
            },
            "type": "choropleth"
           }
          ],
          "contour": [
           {
            "colorbar": {
             "outlinewidth": 0,
             "ticks": ""
            },
            "colorscale": [
             [
              0,
              "#0d0887"
             ],
             [
              0.1111111111111111,
              "#46039f"
             ],
             [
              0.2222222222222222,
              "#7201a8"
             ],
             [
              0.3333333333333333,
              "#9c179e"
             ],
             [
              0.4444444444444444,
              "#bd3786"
             ],
             [
              0.5555555555555556,
              "#d8576b"
             ],
             [
              0.6666666666666666,
              "#ed7953"
             ],
             [
              0.7777777777777778,
              "#fb9f3a"
             ],
             [
              0.8888888888888888,
              "#fdca26"
             ],
             [
              1,
              "#f0f921"
             ]
            ],
            "type": "contour"
           }
          ],
          "contourcarpet": [
           {
            "colorbar": {
             "outlinewidth": 0,
             "ticks": ""
            },
            "type": "contourcarpet"
           }
          ],
          "heatmap": [
           {
            "colorbar": {
             "outlinewidth": 0,
             "ticks": ""
            },
            "colorscale": [
             [
              0,
              "#0d0887"
             ],
             [
              0.1111111111111111,
              "#46039f"
             ],
             [
              0.2222222222222222,
              "#7201a8"
             ],
             [
              0.3333333333333333,
              "#9c179e"
             ],
             [
              0.4444444444444444,
              "#bd3786"
             ],
             [
              0.5555555555555556,
              "#d8576b"
             ],
             [
              0.6666666666666666,
              "#ed7953"
             ],
             [
              0.7777777777777778,
              "#fb9f3a"
             ],
             [
              0.8888888888888888,
              "#fdca26"
             ],
             [
              1,
              "#f0f921"
             ]
            ],
            "type": "heatmap"
           }
          ],
          "heatmapgl": [
           {
            "colorbar": {
             "outlinewidth": 0,
             "ticks": ""
            },
            "colorscale": [
             [
              0,
              "#0d0887"
             ],
             [
              0.1111111111111111,
              "#46039f"
             ],
             [
              0.2222222222222222,
              "#7201a8"
             ],
             [
              0.3333333333333333,
              "#9c179e"
             ],
             [
              0.4444444444444444,
              "#bd3786"
             ],
             [
              0.5555555555555556,
              "#d8576b"
             ],
             [
              0.6666666666666666,
              "#ed7953"
             ],
             [
              0.7777777777777778,
              "#fb9f3a"
             ],
             [
              0.8888888888888888,
              "#fdca26"
             ],
             [
              1,
              "#f0f921"
             ]
            ],
            "type": "heatmapgl"
           }
          ],
          "histogram": [
           {
            "marker": {
             "pattern": {
              "fillmode": "overlay",
              "size": 10,
              "solidity": 0.2
             }
            },
            "type": "histogram"
           }
          ],
          "histogram2d": [
           {
            "colorbar": {
             "outlinewidth": 0,
             "ticks": ""
            },
            "colorscale": [
             [
              0,
              "#0d0887"
             ],
             [
              0.1111111111111111,
              "#46039f"
             ],
             [
              0.2222222222222222,
              "#7201a8"
             ],
             [
              0.3333333333333333,
              "#9c179e"
             ],
             [
              0.4444444444444444,
              "#bd3786"
             ],
             [
              0.5555555555555556,
              "#d8576b"
             ],
             [
              0.6666666666666666,
              "#ed7953"
             ],
             [
              0.7777777777777778,
              "#fb9f3a"
             ],
             [
              0.8888888888888888,
              "#fdca26"
             ],
             [
              1,
              "#f0f921"
             ]
            ],
            "type": "histogram2d"
           }
          ],
          "histogram2dcontour": [
           {
            "colorbar": {
             "outlinewidth": 0,
             "ticks": ""
            },
            "colorscale": [
             [
              0,
              "#0d0887"
             ],
             [
              0.1111111111111111,
              "#46039f"
             ],
             [
              0.2222222222222222,
              "#7201a8"
             ],
             [
              0.3333333333333333,
              "#9c179e"
             ],
             [
              0.4444444444444444,
              "#bd3786"
             ],
             [
              0.5555555555555556,
              "#d8576b"
             ],
             [
              0.6666666666666666,
              "#ed7953"
             ],
             [
              0.7777777777777778,
              "#fb9f3a"
             ],
             [
              0.8888888888888888,
              "#fdca26"
             ],
             [
              1,
              "#f0f921"
             ]
            ],
            "type": "histogram2dcontour"
           }
          ],
          "mesh3d": [
           {
            "colorbar": {
             "outlinewidth": 0,
             "ticks": ""
            },
            "type": "mesh3d"
           }
          ],
          "parcoords": [
           {
            "line": {
             "colorbar": {
              "outlinewidth": 0,
              "ticks": ""
             }
            },
            "type": "parcoords"
           }
          ],
          "pie": [
           {
            "automargin": true,
            "type": "pie"
           }
          ],
          "scatter": [
           {
            "fillpattern": {
             "fillmode": "overlay",
             "size": 10,
             "solidity": 0.2
            },
            "type": "scatter"
           }
          ],
          "scatter3d": [
           {
            "line": {
             "colorbar": {
              "outlinewidth": 0,
              "ticks": ""
             }
            },
            "marker": {
             "colorbar": {
              "outlinewidth": 0,
              "ticks": ""
             }
            },
            "type": "scatter3d"
           }
          ],
          "scattercarpet": [
           {
            "marker": {
             "colorbar": {
              "outlinewidth": 0,
              "ticks": ""
             }
            },
            "type": "scattercarpet"
           }
          ],
          "scattergeo": [
           {
            "marker": {
             "colorbar": {
              "outlinewidth": 0,
              "ticks": ""
             }
            },
            "type": "scattergeo"
           }
          ],
          "scattergl": [
           {
            "marker": {
             "colorbar": {
              "outlinewidth": 0,
              "ticks": ""
             }
            },
            "type": "scattergl"
           }
          ],
          "scattermapbox": [
           {
            "marker": {
             "colorbar": {
              "outlinewidth": 0,
              "ticks": ""
             }
            },
            "type": "scattermapbox"
           }
          ],
          "scatterpolar": [
           {
            "marker": {
             "colorbar": {
              "outlinewidth": 0,
              "ticks": ""
             }
            },
            "type": "scatterpolar"
           }
          ],
          "scatterpolargl": [
           {
            "marker": {
             "colorbar": {
              "outlinewidth": 0,
              "ticks": ""
             }
            },
            "type": "scatterpolargl"
           }
          ],
          "scatterternary": [
           {
            "marker": {
             "colorbar": {
              "outlinewidth": 0,
              "ticks": ""
             }
            },
            "type": "scatterternary"
           }
          ],
          "surface": [
           {
            "colorbar": {
             "outlinewidth": 0,
             "ticks": ""
            },
            "colorscale": [
             [
              0,
              "#0d0887"
             ],
             [
              0.1111111111111111,
              "#46039f"
             ],
             [
              0.2222222222222222,
              "#7201a8"
             ],
             [
              0.3333333333333333,
              "#9c179e"
             ],
             [
              0.4444444444444444,
              "#bd3786"
             ],
             [
              0.5555555555555556,
              "#d8576b"
             ],
             [
              0.6666666666666666,
              "#ed7953"
             ],
             [
              0.7777777777777778,
              "#fb9f3a"
             ],
             [
              0.8888888888888888,
              "#fdca26"
             ],
             [
              1,
              "#f0f921"
             ]
            ],
            "type": "surface"
           }
          ],
          "table": [
           {
            "cells": {
             "fill": {
              "color": "#EBF0F8"
             },
             "line": {
              "color": "white"
             }
            },
            "header": {
             "fill": {
              "color": "#C8D4E3"
             },
             "line": {
              "color": "white"
             }
            },
            "type": "table"
           }
          ]
         },
         "layout": {
          "annotationdefaults": {
           "arrowcolor": "#2a3f5f",
           "arrowhead": 0,
           "arrowwidth": 1
          },
          "autotypenumbers": "strict",
          "coloraxis": {
           "colorbar": {
            "outlinewidth": 0,
            "ticks": ""
           }
          },
          "colorscale": {
           "diverging": [
            [
             0,
             "#8e0152"
            ],
            [
             0.1,
             "#c51b7d"
            ],
            [
             0.2,
             "#de77ae"
            ],
            [
             0.3,
             "#f1b6da"
            ],
            [
             0.4,
             "#fde0ef"
            ],
            [
             0.5,
             "#f7f7f7"
            ],
            [
             0.6,
             "#e6f5d0"
            ],
            [
             0.7,
             "#b8e186"
            ],
            [
             0.8,
             "#7fbc41"
            ],
            [
             0.9,
             "#4d9221"
            ],
            [
             1,
             "#276419"
            ]
           ],
           "sequential": [
            [
             0,
             "#0d0887"
            ],
            [
             0.1111111111111111,
             "#46039f"
            ],
            [
             0.2222222222222222,
             "#7201a8"
            ],
            [
             0.3333333333333333,
             "#9c179e"
            ],
            [
             0.4444444444444444,
             "#bd3786"
            ],
            [
             0.5555555555555556,
             "#d8576b"
            ],
            [
             0.6666666666666666,
             "#ed7953"
            ],
            [
             0.7777777777777778,
             "#fb9f3a"
            ],
            [
             0.8888888888888888,
             "#fdca26"
            ],
            [
             1,
             "#f0f921"
            ]
           ],
           "sequentialminus": [
            [
             0,
             "#0d0887"
            ],
            [
             0.1111111111111111,
             "#46039f"
            ],
            [
             0.2222222222222222,
             "#7201a8"
            ],
            [
             0.3333333333333333,
             "#9c179e"
            ],
            [
             0.4444444444444444,
             "#bd3786"
            ],
            [
             0.5555555555555556,
             "#d8576b"
            ],
            [
             0.6666666666666666,
             "#ed7953"
            ],
            [
             0.7777777777777778,
             "#fb9f3a"
            ],
            [
             0.8888888888888888,
             "#fdca26"
            ],
            [
             1,
             "#f0f921"
            ]
           ]
          },
          "colorway": [
           "#636efa",
           "#EF553B",
           "#00cc96",
           "#ab63fa",
           "#FFA15A",
           "#19d3f3",
           "#FF6692",
           "#B6E880",
           "#FF97FF",
           "#FECB52"
          ],
          "font": {
           "color": "#2a3f5f"
          },
          "geo": {
           "bgcolor": "white",
           "lakecolor": "white",
           "landcolor": "#E5ECF6",
           "showlakes": true,
           "showland": true,
           "subunitcolor": "white"
          },
          "hoverlabel": {
           "align": "left"
          },
          "hovermode": "closest",
          "mapbox": {
           "style": "light"
          },
          "paper_bgcolor": "white",
          "plot_bgcolor": "#E5ECF6",
          "polar": {
           "angularaxis": {
            "gridcolor": "white",
            "linecolor": "white",
            "ticks": ""
           },
           "bgcolor": "#E5ECF6",
           "radialaxis": {
            "gridcolor": "white",
            "linecolor": "white",
            "ticks": ""
           }
          },
          "scene": {
           "xaxis": {
            "backgroundcolor": "#E5ECF6",
            "gridcolor": "white",
            "gridwidth": 2,
            "linecolor": "white",
            "showbackground": true,
            "ticks": "",
            "zerolinecolor": "white"
           },
           "yaxis": {
            "backgroundcolor": "#E5ECF6",
            "gridcolor": "white",
            "gridwidth": 2,
            "linecolor": "white",
            "showbackground": true,
            "ticks": "",
            "zerolinecolor": "white"
           },
           "zaxis": {
            "backgroundcolor": "#E5ECF6",
            "gridcolor": "white",
            "gridwidth": 2,
            "linecolor": "white",
            "showbackground": true,
            "ticks": "",
            "zerolinecolor": "white"
           }
          },
          "shapedefaults": {
           "line": {
            "color": "#2a3f5f"
           }
          },
          "ternary": {
           "aaxis": {
            "gridcolor": "white",
            "linecolor": "white",
            "ticks": ""
           },
           "baxis": {
            "gridcolor": "white",
            "linecolor": "white",
            "ticks": ""
           },
           "bgcolor": "#E5ECF6",
           "caxis": {
            "gridcolor": "white",
            "linecolor": "white",
            "ticks": ""
           }
          },
          "title": {
           "x": 0.05
          },
          "xaxis": {
           "automargin": true,
           "gridcolor": "white",
           "linecolor": "white",
           "ticks": "",
           "title": {
            "standoff": 15
           },
           "zerolinecolor": "white",
           "zerolinewidth": 2
          },
          "yaxis": {
           "automargin": true,
           "gridcolor": "white",
           "linecolor": "white",
           "ticks": "",
           "title": {
            "standoff": 15
           },
           "zerolinecolor": "white",
           "zerolinewidth": 2
          }
         }
        },
        "title": {
         "text": "Sell Price and Buy Price over Time for ID=19721"
        },
        "xaxis": {
         "anchor": "y",
         "domain": [
          0,
          1
         ],
         "title": {
          "text": "loadDateTime"
         },
         "type": "date"
        },
        "yaxis": {
         "anchor": "x",
         "domain": [
          0,
          1
         ],
         "title": {
          "text": "value"
         }
        }
       }
      }
     },
     "metadata": {},
     "output_type": "display_data"
    }
   ],
   "source": [
    "import pandas as pd\n",
    "import plotly.express as px\n",
    "\n",
    "# Load data from master CSV file into a DataFrame\n",
    "df = pd.read_csv(\"master_data_v2.csv\")\n",
    "\n",
    "# Convert 'lastUpdate' column to datetime\n",
    "df['lastUpdate'] = pd.to_datetime(df['lastUpdate'])\n",
    "\n",
    "# Filter data for ID=19721\n",
    "filtered_df = df[df['id'] == 19721]\n",
    "\n",
    "# Line chart\n",
    "fig = px.line(filtered_df, x='loadDateTime', y=['sell_price', 'buy_price'], title='Sell Price and Buy Price over Time for ID=19721')\n",
    "fig.update_xaxes(type='date')\n",
    "fig.show()"
   ]
  },
  {
   "cell_type": "code",
   "execution_count": 52,
   "metadata": {},
   "outputs": [
    {
     "data": {
      "application/vnd.plotly.v1+json": {
       "config": {
        "plotlyServerURL": "https://plot.ly"
       },
       "data": [],
       "layout": {
        "legend": {
         "tracegroupgap": 0
        },
        "template": {
         "data": {
          "bar": [
           {
            "error_x": {
             "color": "#2a3f5f"
            },
            "error_y": {
             "color": "#2a3f5f"
            },
            "marker": {
             "line": {
              "color": "#E5ECF6",
              "width": 0.5
             },
             "pattern": {
              "fillmode": "overlay",
              "size": 10,
              "solidity": 0.2
             }
            },
            "type": "bar"
           }
          ],
          "barpolar": [
           {
            "marker": {
             "line": {
              "color": "#E5ECF6",
              "width": 0.5
             },
             "pattern": {
              "fillmode": "overlay",
              "size": 10,
              "solidity": 0.2
             }
            },
            "type": "barpolar"
           }
          ],
          "carpet": [
           {
            "aaxis": {
             "endlinecolor": "#2a3f5f",
             "gridcolor": "white",
             "linecolor": "white",
             "minorgridcolor": "white",
             "startlinecolor": "#2a3f5f"
            },
            "baxis": {
             "endlinecolor": "#2a3f5f",
             "gridcolor": "white",
             "linecolor": "white",
             "minorgridcolor": "white",
             "startlinecolor": "#2a3f5f"
            },
            "type": "carpet"
           }
          ],
          "choropleth": [
           {
            "colorbar": {
             "outlinewidth": 0,
             "ticks": ""
            },
            "type": "choropleth"
           }
          ],
          "contour": [
           {
            "colorbar": {
             "outlinewidth": 0,
             "ticks": ""
            },
            "colorscale": [
             [
              0,
              "#0d0887"
             ],
             [
              0.1111111111111111,
              "#46039f"
             ],
             [
              0.2222222222222222,
              "#7201a8"
             ],
             [
              0.3333333333333333,
              "#9c179e"
             ],
             [
              0.4444444444444444,
              "#bd3786"
             ],
             [
              0.5555555555555556,
              "#d8576b"
             ],
             [
              0.6666666666666666,
              "#ed7953"
             ],
             [
              0.7777777777777778,
              "#fb9f3a"
             ],
             [
              0.8888888888888888,
              "#fdca26"
             ],
             [
              1,
              "#f0f921"
             ]
            ],
            "type": "contour"
           }
          ],
          "contourcarpet": [
           {
            "colorbar": {
             "outlinewidth": 0,
             "ticks": ""
            },
            "type": "contourcarpet"
           }
          ],
          "heatmap": [
           {
            "colorbar": {
             "outlinewidth": 0,
             "ticks": ""
            },
            "colorscale": [
             [
              0,
              "#0d0887"
             ],
             [
              0.1111111111111111,
              "#46039f"
             ],
             [
              0.2222222222222222,
              "#7201a8"
             ],
             [
              0.3333333333333333,
              "#9c179e"
             ],
             [
              0.4444444444444444,
              "#bd3786"
             ],
             [
              0.5555555555555556,
              "#d8576b"
             ],
             [
              0.6666666666666666,
              "#ed7953"
             ],
             [
              0.7777777777777778,
              "#fb9f3a"
             ],
             [
              0.8888888888888888,
              "#fdca26"
             ],
             [
              1,
              "#f0f921"
             ]
            ],
            "type": "heatmap"
           }
          ],
          "heatmapgl": [
           {
            "colorbar": {
             "outlinewidth": 0,
             "ticks": ""
            },
            "colorscale": [
             [
              0,
              "#0d0887"
             ],
             [
              0.1111111111111111,
              "#46039f"
             ],
             [
              0.2222222222222222,
              "#7201a8"
             ],
             [
              0.3333333333333333,
              "#9c179e"
             ],
             [
              0.4444444444444444,
              "#bd3786"
             ],
             [
              0.5555555555555556,
              "#d8576b"
             ],
             [
              0.6666666666666666,
              "#ed7953"
             ],
             [
              0.7777777777777778,
              "#fb9f3a"
             ],
             [
              0.8888888888888888,
              "#fdca26"
             ],
             [
              1,
              "#f0f921"
             ]
            ],
            "type": "heatmapgl"
           }
          ],
          "histogram": [
           {
            "marker": {
             "pattern": {
              "fillmode": "overlay",
              "size": 10,
              "solidity": 0.2
             }
            },
            "type": "histogram"
           }
          ],
          "histogram2d": [
           {
            "colorbar": {
             "outlinewidth": 0,
             "ticks": ""
            },
            "colorscale": [
             [
              0,
              "#0d0887"
             ],
             [
              0.1111111111111111,
              "#46039f"
             ],
             [
              0.2222222222222222,
              "#7201a8"
             ],
             [
              0.3333333333333333,
              "#9c179e"
             ],
             [
              0.4444444444444444,
              "#bd3786"
             ],
             [
              0.5555555555555556,
              "#d8576b"
             ],
             [
              0.6666666666666666,
              "#ed7953"
             ],
             [
              0.7777777777777778,
              "#fb9f3a"
             ],
             [
              0.8888888888888888,
              "#fdca26"
             ],
             [
              1,
              "#f0f921"
             ]
            ],
            "type": "histogram2d"
           }
          ],
          "histogram2dcontour": [
           {
            "colorbar": {
             "outlinewidth": 0,
             "ticks": ""
            },
            "colorscale": [
             [
              0,
              "#0d0887"
             ],
             [
              0.1111111111111111,
              "#46039f"
             ],
             [
              0.2222222222222222,
              "#7201a8"
             ],
             [
              0.3333333333333333,
              "#9c179e"
             ],
             [
              0.4444444444444444,
              "#bd3786"
             ],
             [
              0.5555555555555556,
              "#d8576b"
             ],
             [
              0.6666666666666666,
              "#ed7953"
             ],
             [
              0.7777777777777778,
              "#fb9f3a"
             ],
             [
              0.8888888888888888,
              "#fdca26"
             ],
             [
              1,
              "#f0f921"
             ]
            ],
            "type": "histogram2dcontour"
           }
          ],
          "mesh3d": [
           {
            "colorbar": {
             "outlinewidth": 0,
             "ticks": ""
            },
            "type": "mesh3d"
           }
          ],
          "parcoords": [
           {
            "line": {
             "colorbar": {
              "outlinewidth": 0,
              "ticks": ""
             }
            },
            "type": "parcoords"
           }
          ],
          "pie": [
           {
            "automargin": true,
            "type": "pie"
           }
          ],
          "scatter": [
           {
            "fillpattern": {
             "fillmode": "overlay",
             "size": 10,
             "solidity": 0.2
            },
            "type": "scatter"
           }
          ],
          "scatter3d": [
           {
            "line": {
             "colorbar": {
              "outlinewidth": 0,
              "ticks": ""
             }
            },
            "marker": {
             "colorbar": {
              "outlinewidth": 0,
              "ticks": ""
             }
            },
            "type": "scatter3d"
           }
          ],
          "scattercarpet": [
           {
            "marker": {
             "colorbar": {
              "outlinewidth": 0,
              "ticks": ""
             }
            },
            "type": "scattercarpet"
           }
          ],
          "scattergeo": [
           {
            "marker": {
             "colorbar": {
              "outlinewidth": 0,
              "ticks": ""
             }
            },
            "type": "scattergeo"
           }
          ],
          "scattergl": [
           {
            "marker": {
             "colorbar": {
              "outlinewidth": 0,
              "ticks": ""
             }
            },
            "type": "scattergl"
           }
          ],
          "scattermapbox": [
           {
            "marker": {
             "colorbar": {
              "outlinewidth": 0,
              "ticks": ""
             }
            },
            "type": "scattermapbox"
           }
          ],
          "scatterpolar": [
           {
            "marker": {
             "colorbar": {
              "outlinewidth": 0,
              "ticks": ""
             }
            },
            "type": "scatterpolar"
           }
          ],
          "scatterpolargl": [
           {
            "marker": {
             "colorbar": {
              "outlinewidth": 0,
              "ticks": ""
             }
            },
            "type": "scatterpolargl"
           }
          ],
          "scatterternary": [
           {
            "marker": {
             "colorbar": {
              "outlinewidth": 0,
              "ticks": ""
             }
            },
            "type": "scatterternary"
           }
          ],
          "surface": [
           {
            "colorbar": {
             "outlinewidth": 0,
             "ticks": ""
            },
            "colorscale": [
             [
              0,
              "#0d0887"
             ],
             [
              0.1111111111111111,
              "#46039f"
             ],
             [
              0.2222222222222222,
              "#7201a8"
             ],
             [
              0.3333333333333333,
              "#9c179e"
             ],
             [
              0.4444444444444444,
              "#bd3786"
             ],
             [
              0.5555555555555556,
              "#d8576b"
             ],
             [
              0.6666666666666666,
              "#ed7953"
             ],
             [
              0.7777777777777778,
              "#fb9f3a"
             ],
             [
              0.8888888888888888,
              "#fdca26"
             ],
             [
              1,
              "#f0f921"
             ]
            ],
            "type": "surface"
           }
          ],
          "table": [
           {
            "cells": {
             "fill": {
              "color": "#EBF0F8"
             },
             "line": {
              "color": "white"
             }
            },
            "header": {
             "fill": {
              "color": "#C8D4E3"
             },
             "line": {
              "color": "white"
             }
            },
            "type": "table"
           }
          ]
         },
         "layout": {
          "annotationdefaults": {
           "arrowcolor": "#2a3f5f",
           "arrowhead": 0,
           "arrowwidth": 1
          },
          "autotypenumbers": "strict",
          "coloraxis": {
           "colorbar": {
            "outlinewidth": 0,
            "ticks": ""
           }
          },
          "colorscale": {
           "diverging": [
            [
             0,
             "#8e0152"
            ],
            [
             0.1,
             "#c51b7d"
            ],
            [
             0.2,
             "#de77ae"
            ],
            [
             0.3,
             "#f1b6da"
            ],
            [
             0.4,
             "#fde0ef"
            ],
            [
             0.5,
             "#f7f7f7"
            ],
            [
             0.6,
             "#e6f5d0"
            ],
            [
             0.7,
             "#b8e186"
            ],
            [
             0.8,
             "#7fbc41"
            ],
            [
             0.9,
             "#4d9221"
            ],
            [
             1,
             "#276419"
            ]
           ],
           "sequential": [
            [
             0,
             "#0d0887"
            ],
            [
             0.1111111111111111,
             "#46039f"
            ],
            [
             0.2222222222222222,
             "#7201a8"
            ],
            [
             0.3333333333333333,
             "#9c179e"
            ],
            [
             0.4444444444444444,
             "#bd3786"
            ],
            [
             0.5555555555555556,
             "#d8576b"
            ],
            [
             0.6666666666666666,
             "#ed7953"
            ],
            [
             0.7777777777777778,
             "#fb9f3a"
            ],
            [
             0.8888888888888888,
             "#fdca26"
            ],
            [
             1,
             "#f0f921"
            ]
           ],
           "sequentialminus": [
            [
             0,
             "#0d0887"
            ],
            [
             0.1111111111111111,
             "#46039f"
            ],
            [
             0.2222222222222222,
             "#7201a8"
            ],
            [
             0.3333333333333333,
             "#9c179e"
            ],
            [
             0.4444444444444444,
             "#bd3786"
            ],
            [
             0.5555555555555556,
             "#d8576b"
            ],
            [
             0.6666666666666666,
             "#ed7953"
            ],
            [
             0.7777777777777778,
             "#fb9f3a"
            ],
            [
             0.8888888888888888,
             "#fdca26"
            ],
            [
             1,
             "#f0f921"
            ]
           ]
          },
          "colorway": [
           "#636efa",
           "#EF553B",
           "#00cc96",
           "#ab63fa",
           "#FFA15A",
           "#19d3f3",
           "#FF6692",
           "#B6E880",
           "#FF97FF",
           "#FECB52"
          ],
          "font": {
           "color": "#2a3f5f"
          },
          "geo": {
           "bgcolor": "white",
           "lakecolor": "white",
           "landcolor": "#E5ECF6",
           "showlakes": true,
           "showland": true,
           "subunitcolor": "white"
          },
          "hoverlabel": {
           "align": "left"
          },
          "hovermode": "closest",
          "mapbox": {
           "style": "light"
          },
          "paper_bgcolor": "white",
          "plot_bgcolor": "#E5ECF6",
          "polar": {
           "angularaxis": {
            "gridcolor": "white",
            "linecolor": "white",
            "ticks": ""
           },
           "bgcolor": "#E5ECF6",
           "radialaxis": {
            "gridcolor": "white",
            "linecolor": "white",
            "ticks": ""
           }
          },
          "scene": {
           "xaxis": {
            "backgroundcolor": "#E5ECF6",
            "gridcolor": "white",
            "gridwidth": 2,
            "linecolor": "white",
            "showbackground": true,
            "ticks": "",
            "zerolinecolor": "white"
           },
           "yaxis": {
            "backgroundcolor": "#E5ECF6",
            "gridcolor": "white",
            "gridwidth": 2,
            "linecolor": "white",
            "showbackground": true,
            "ticks": "",
            "zerolinecolor": "white"
           },
           "zaxis": {
            "backgroundcolor": "#E5ECF6",
            "gridcolor": "white",
            "gridwidth": 2,
            "linecolor": "white",
            "showbackground": true,
            "ticks": "",
            "zerolinecolor": "white"
           }
          },
          "shapedefaults": {
           "line": {
            "color": "#2a3f5f"
           }
          },
          "ternary": {
           "aaxis": {
            "gridcolor": "white",
            "linecolor": "white",
            "ticks": ""
           },
           "baxis": {
            "gridcolor": "white",
            "linecolor": "white",
            "ticks": ""
           },
           "bgcolor": "#E5ECF6",
           "caxis": {
            "gridcolor": "white",
            "linecolor": "white",
            "ticks": ""
           }
          },
          "title": {
           "x": 0.05
          },
          "xaxis": {
           "automargin": true,
           "gridcolor": "white",
           "linecolor": "white",
           "ticks": "",
           "title": {
            "standoff": 15
           },
           "zerolinecolor": "white",
           "zerolinewidth": 2
          },
          "yaxis": {
           "automargin": true,
           "gridcolor": "white",
           "linecolor": "white",
           "ticks": "",
           "title": {
            "standoff": 15
           },
           "zerolinecolor": "white",
           "zerolinewidth": 2
          }
         }
        },
        "title": {
         "text": "Sell Price and Buy Price over Time for ID=19721"
        },
        "xaxis": {
         "anchor": "y",
         "domain": [
          0,
          1
         ],
         "title": {
          "text": "loadDateTime"
         },
         "type": "date"
        },
        "yaxis": {
         "anchor": "x",
         "domain": [
          0,
          1
         ],
         "title": {
          "text": "value"
         }
        }
       }
      }
     },
     "metadata": {},
     "output_type": "display_data"
    }
   ],
   "source": [
    "import pandas as pd\n",
    "import plotly.express as px\n",
    "\n",
    "# Load data from master CSV file into a DataFrame\n",
    "df = pd.read_csv(\"master_data_v2.csv\")\n",
    "\n",
    "# Convert 'lastUpdate' column to datetime\n",
    "df['lastUpdate'] = pd.to_datetime(df['lastUpdate'])\n",
    "df['loadDateTime'] = pd.to_datetime(df['loadDateTime'])  # Convert 'loadDateTime' to datetime\n",
    "\n",
    "# Filter data for ID=19721\n",
    "filtered_df = df[df['id'] == 19721]\n",
    "\n",
    "# Group by date part of 'loadDateTime'\n",
    "filtered_df['loadDate'] = filtered_df['loadDateTime'].dt.date\n",
    "grouped_df = filtered_df.groupby('loadDate').agg({'sell_price': 'mean', 'buy_price': 'mean'}).reset_index()\n",
    "\n",
    "# Line chart\n",
    "fig = px.line(grouped_df, x='loadDate', y=['sell_price', 'buy_price'], title='Sell Price and Buy Price over Time for ID=19721')\n",
    "fig.update_xaxes(type='category')  # Use 'category' type for dates\n",
    "fig.show()\n"
   ]
  }
 ],
 "metadata": {
  "kernelspec": {
   "display_name": "Python 3",
   "language": "python",
   "name": "python3"
  },
  "language_info": {
   "codemirror_mode": {
    "name": "ipython",
    "version": 3
   },
   "file_extension": ".py",
   "mimetype": "text/x-python",
   "name": "python",
   "nbconvert_exporter": "python",
   "pygments_lexer": "ipython3",
   "version": "3.10.11"
  }
 },
 "nbformat": 4,
 "nbformat_minor": 2
}
